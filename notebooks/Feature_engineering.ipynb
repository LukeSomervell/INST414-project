{
 "cells": [
  {
   "cell_type": "code",
   "execution_count": 1,
   "metadata": {},
   "outputs": [
    {
     "name": "stdout",
     "output_type": "stream",
     "text": [
      "(39139, 8)\n"
     ]
    },
    {
     "data": {
      "text/html": [
       "<div>\n",
       "<style scoped>\n",
       "    .dataframe tbody tr th:only-of-type {\n",
       "        vertical-align: middle;\n",
       "    }\n",
       "\n",
       "    .dataframe tbody tr th {\n",
       "        vertical-align: top;\n",
       "    }\n",
       "\n",
       "    .dataframe thead th {\n",
       "        text-align: right;\n",
       "    }\n",
       "</style>\n",
       "<table border=\"1\" class=\"dataframe\">\n",
       "  <thead>\n",
       "    <tr style=\"text-align: right;\">\n",
       "      <th></th>\n",
       "      <th>sender</th>\n",
       "      <th>receiver</th>\n",
       "      <th>date</th>\n",
       "      <th>subject</th>\n",
       "      <th>body</th>\n",
       "      <th>label</th>\n",
       "      <th>urls</th>\n",
       "      <th>parsed_date</th>\n",
       "    </tr>\n",
       "  </thead>\n",
       "  <tbody>\n",
       "    <tr>\n",
       "      <th>0</th>\n",
       "      <td>Young Esposito &lt;Young@iworld.de&gt;</td>\n",
       "      <td>user4@gvc.ceas-challenge.cc</td>\n",
       "      <td>Tue, 05 Aug 2008 16:31:02 -0700</td>\n",
       "      <td>never agree to be a loser</td>\n",
       "      <td>buck up, your troubles caused by small dimensi...</td>\n",
       "      <td>1</td>\n",
       "      <td>1</td>\n",
       "      <td>2008-08-05 16:31:02-07:00</td>\n",
       "    </tr>\n",
       "    <tr>\n",
       "      <th>1</th>\n",
       "      <td>Mok &lt;ipline's1983@icable.ph&gt;</td>\n",
       "      <td>user2.2@gvc.ceas-challenge.cc</td>\n",
       "      <td>Tue, 05 Aug 2008 18:31:03 -0500</td>\n",
       "      <td>befriend jenna jameson</td>\n",
       "      <td>\\nupgrade your sex and pleasures with these te...</td>\n",
       "      <td>1</td>\n",
       "      <td>1</td>\n",
       "      <td>2008-08-05 18:31:03-05:00</td>\n",
       "    </tr>\n",
       "    <tr>\n",
       "      <th>2</th>\n",
       "      <td>Daily Top 10 &lt;Karmandeep-opengevl@universalnet...</td>\n",
       "      <td>user2.9@gvc.ceas-challenge.cc</td>\n",
       "      <td>Tue, 05 Aug 2008 20:28:00 -1200</td>\n",
       "      <td>cnn.com daily top 10</td>\n",
       "      <td>&gt;+=+=+=+=+=+=+=+=+=+=+=+=+=+=+=+=+=+=+=+=+=+=+...</td>\n",
       "      <td>1</td>\n",
       "      <td>1</td>\n",
       "      <td>2008-08-05 20:28:00-12:00</td>\n",
       "    </tr>\n",
       "    <tr>\n",
       "      <th>3</th>\n",
       "      <td>Michael Parker &lt;ivqrnai@pobox.com&gt;</td>\n",
       "      <td>SpamAssassin Dev &lt;xrh@spamassassin.apache.org&gt;</td>\n",
       "      <td>Tue, 05 Aug 2008 17:31:20 -0600</td>\n",
       "      <td>re: svn commit: r619753 - in /spamassassin/tru...</td>\n",
       "      <td>would anyone object to removing .so from this ...</td>\n",
       "      <td>0</td>\n",
       "      <td>1</td>\n",
       "      <td>2008-08-05 17:31:20-06:00</td>\n",
       "    </tr>\n",
       "    <tr>\n",
       "      <th>4</th>\n",
       "      <td>Gretchen Suggs &lt;externalsep1@loanofficertool.com&gt;</td>\n",
       "      <td>user2.2@gvc.ceas-challenge.cc</td>\n",
       "      <td>Tue, 05 Aug 2008 19:31:21 -0400</td>\n",
       "      <td>specialpricespharmmoreinfo</td>\n",
       "      <td>\\nwelcomefastshippingcustomersupport\\nhttp://7...</td>\n",
       "      <td>1</td>\n",
       "      <td>1</td>\n",
       "      <td>2008-08-05 19:31:21-04:00</td>\n",
       "    </tr>\n",
       "  </tbody>\n",
       "</table>\n",
       "</div>"
      ],
      "text/plain": [
       "                                              sender  \\\n",
       "0                   Young Esposito <Young@iworld.de>   \n",
       "1                       Mok <ipline's1983@icable.ph>   \n",
       "2  Daily Top 10 <Karmandeep-opengevl@universalnet...   \n",
       "3                 Michael Parker <ivqrnai@pobox.com>   \n",
       "4  Gretchen Suggs <externalsep1@loanofficertool.com>   \n",
       "\n",
       "                                         receiver  \\\n",
       "0                     user4@gvc.ceas-challenge.cc   \n",
       "1                   user2.2@gvc.ceas-challenge.cc   \n",
       "2                   user2.9@gvc.ceas-challenge.cc   \n",
       "3  SpamAssassin Dev <xrh@spamassassin.apache.org>   \n",
       "4                   user2.2@gvc.ceas-challenge.cc   \n",
       "\n",
       "                              date  \\\n",
       "0  Tue, 05 Aug 2008 16:31:02 -0700   \n",
       "1  Tue, 05 Aug 2008 18:31:03 -0500   \n",
       "2  Tue, 05 Aug 2008 20:28:00 -1200   \n",
       "3  Tue, 05 Aug 2008 17:31:20 -0600   \n",
       "4  Tue, 05 Aug 2008 19:31:21 -0400   \n",
       "\n",
       "                                             subject  \\\n",
       "0                          never agree to be a loser   \n",
       "1                             befriend jenna jameson   \n",
       "2                               cnn.com daily top 10   \n",
       "3  re: svn commit: r619753 - in /spamassassin/tru...   \n",
       "4                         specialpricespharmmoreinfo   \n",
       "\n",
       "                                                body  label  urls  \\\n",
       "0  buck up, your troubles caused by small dimensi...      1     1   \n",
       "1  \\nupgrade your sex and pleasures with these te...      1     1   \n",
       "2  >+=+=+=+=+=+=+=+=+=+=+=+=+=+=+=+=+=+=+=+=+=+=+...      1     1   \n",
       "3  would anyone object to removing .so from this ...      0     1   \n",
       "4  \\nwelcomefastshippingcustomersupport\\nhttp://7...      1     1   \n",
       "\n",
       "                 parsed_date  \n",
       "0  2008-08-05 16:31:02-07:00  \n",
       "1  2008-08-05 18:31:03-05:00  \n",
       "2  2008-08-05 20:28:00-12:00  \n",
       "3  2008-08-05 17:31:20-06:00  \n",
       "4  2008-08-05 19:31:21-04:00  "
      ]
     },
     "execution_count": 1,
     "metadata": {},
     "output_type": "execute_result"
    }
   ],
   "source": [
    "# Load libraries\n",
    "import pandas as pd\n",
    "\n",
    "# Load cleaned dataset\n",
    "file_path = \"../data/processed/CEAS_08_cleaned.csv\"\n",
    "df = pd.read_csv(file_path)\n",
    "\n",
    "# Quick check\n",
    "print(df.shape)\n",
    "df.head()"
   ]
  },
  {
   "cell_type": "code",
   "execution_count": 2,
   "metadata": {},
   "outputs": [
    {
     "name": "stdout",
     "output_type": "stream",
     "text": [
      "                                              sender        sender_domain\n",
      "0                   Young Esposito <Young@iworld.de>            iworld.de\n",
      "1                       Mok <ipline's1983@icable.ph>            icable.ph\n",
      "2  Daily Top 10 <Karmandeep-opengevl@universalnet...  universalnet.psi.br\n",
      "3                 Michael Parker <ivqrnai@pobox.com>            pobox.com\n",
      "4  Gretchen Suggs <externalsep1@loanofficertool.com>  loanofficertool.com\n"
     ]
    }
   ],
   "source": [
    "# Create a new feature for sender domain\n",
    "df['sender_domain'] = df['sender'].apply(lambda x: str(x).split('@')[-1].replace('>', '').lower())\n",
    "\n",
    "# Quick preview\n",
    "print(df[['sender', 'sender_domain']].head())"
   ]
  },
  {
   "cell_type": "code",
   "execution_count": 3,
   "metadata": {},
   "outputs": [
    {
     "name": "stdout",
     "output_type": "stream",
     "text": [
      "                                                body  body_length  \\\n",
      "0  buck up, your troubles caused by small dimensi...          273   \n",
      "1  \\nupgrade your sex and pleasures with these te...           82   \n",
      "2  >+=+=+=+=+=+=+=+=+=+=+=+=+=+=+=+=+=+=+=+=+=+=+...         3918   \n",
      "3  would anyone object to removing .so from this ...        24418   \n",
      "4  \\nwelcomefastshippingcustomersupport\\nhttp://7...          175   \n",
      "\n",
      "                                             subject  subject_length  \n",
      "0                          never agree to be a loser              25  \n",
      "1                             befriend jenna jameson              22  \n",
      "2                               cnn.com daily top 10              20  \n",
      "3  re: svn commit: r619753 - in /spamassassin/tru...             150  \n",
      "4                         specialpricespharmmoreinfo              26  \n"
     ]
    }
   ],
   "source": [
    "# Create a new feature for body text length\n",
    "df['body_length'] = df['body'].apply(lambda x: len(str(x)))\n",
    "\n",
    "# Create a new feature for subject line length\n",
    "df['subject_length'] = df['subject'].apply(lambda x: len(str(x)))\n",
    "\n",
    "# Quick preview\n",
    "print(df[['body', 'body_length', 'subject', 'subject_length']].head())"
   ]
  },
  {
   "cell_type": "code",
   "execution_count": 4,
   "metadata": {},
   "outputs": [
    {
     "name": "stdout",
     "output_type": "stream",
     "text": [
      "Feature-engineered dataset saved successfully!\n"
     ]
    }
   ],
   "source": [
    "df.to_csv(\"../data/processed/CEAS_08_feature_engineered.csv\", index=False)\n",
    "\n",
    "print(\"Feature-engineered dataset saved successfully!\")"
   ]
  }
 ],
 "metadata": {
  "kernelspec": {
   "display_name": ".venv",
   "language": "python",
   "name": "python3"
  },
  "language_info": {
   "codemirror_mode": {
    "name": "ipython",
    "version": 3
   },
   "file_extension": ".py",
   "mimetype": "text/x-python",
   "name": "python",
   "nbconvert_exporter": "python",
   "pygments_lexer": "ipython3",
   "version": "3.10.2"
  }
 },
 "nbformat": 4,
 "nbformat_minor": 2
}
