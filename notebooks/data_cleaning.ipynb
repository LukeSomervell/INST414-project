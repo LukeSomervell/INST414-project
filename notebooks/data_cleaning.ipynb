{
 "cells": [
  {
   "cell_type": "code",
   "execution_count": 1,
   "metadata": {},
   "outputs": [
    {
     "name": "stdout",
     "output_type": "stream",
     "text": [
      "Dataset shape: (39154, 7)\n"
     ]
    },
    {
     "data": {
      "text/html": [
       "<div>\n",
       "<style scoped>\n",
       "    .dataframe tbody tr th:only-of-type {\n",
       "        vertical-align: middle;\n",
       "    }\n",
       "\n",
       "    .dataframe tbody tr th {\n",
       "        vertical-align: top;\n",
       "    }\n",
       "\n",
       "    .dataframe thead th {\n",
       "        text-align: right;\n",
       "    }\n",
       "</style>\n",
       "<table border=\"1\" class=\"dataframe\">\n",
       "  <thead>\n",
       "    <tr style=\"text-align: right;\">\n",
       "      <th></th>\n",
       "      <th>sender</th>\n",
       "      <th>receiver</th>\n",
       "      <th>date</th>\n",
       "      <th>subject</th>\n",
       "      <th>body</th>\n",
       "      <th>label</th>\n",
       "      <th>urls</th>\n",
       "    </tr>\n",
       "  </thead>\n",
       "  <tbody>\n",
       "    <tr>\n",
       "      <th>0</th>\n",
       "      <td>Young Esposito &lt;Young@iworld.de&gt;</td>\n",
       "      <td>user4@gvc.ceas-challenge.cc</td>\n",
       "      <td>Tue, 05 Aug 2008 16:31:02 -0700</td>\n",
       "      <td>Never agree to be a loser</td>\n",
       "      <td>Buck up, your troubles caused by small dimensi...</td>\n",
       "      <td>1</td>\n",
       "      <td>1</td>\n",
       "    </tr>\n",
       "    <tr>\n",
       "      <th>1</th>\n",
       "      <td>Mok &lt;ipline's1983@icable.ph&gt;</td>\n",
       "      <td>user2.2@gvc.ceas-challenge.cc</td>\n",
       "      <td>Tue, 05 Aug 2008 18:31:03 -0500</td>\n",
       "      <td>Befriend Jenna Jameson</td>\n",
       "      <td>\\nUpgrade your sex and pleasures with these te...</td>\n",
       "      <td>1</td>\n",
       "      <td>1</td>\n",
       "    </tr>\n",
       "    <tr>\n",
       "      <th>2</th>\n",
       "      <td>Daily Top 10 &lt;Karmandeep-opengevl@universalnet...</td>\n",
       "      <td>user2.9@gvc.ceas-challenge.cc</td>\n",
       "      <td>Tue, 05 Aug 2008 20:28:00 -1200</td>\n",
       "      <td>CNN.com Daily Top 10</td>\n",
       "      <td>&gt;+=+=+=+=+=+=+=+=+=+=+=+=+=+=+=+=+=+=+=+=+=+=+...</td>\n",
       "      <td>1</td>\n",
       "      <td>1</td>\n",
       "    </tr>\n",
       "    <tr>\n",
       "      <th>3</th>\n",
       "      <td>Michael Parker &lt;ivqrnai@pobox.com&gt;</td>\n",
       "      <td>SpamAssassin Dev &lt;xrh@spamassassin.apache.org&gt;</td>\n",
       "      <td>Tue, 05 Aug 2008 17:31:20 -0600</td>\n",
       "      <td>Re: svn commit: r619753 - in /spamassassin/tru...</td>\n",
       "      <td>Would anyone object to removing .so from this ...</td>\n",
       "      <td>0</td>\n",
       "      <td>1</td>\n",
       "    </tr>\n",
       "    <tr>\n",
       "      <th>4</th>\n",
       "      <td>Gretchen Suggs &lt;externalsep1@loanofficertool.com&gt;</td>\n",
       "      <td>user2.2@gvc.ceas-challenge.cc</td>\n",
       "      <td>Tue, 05 Aug 2008 19:31:21 -0400</td>\n",
       "      <td>SpecialPricesPharmMoreinfo</td>\n",
       "      <td>\\nWelcomeFastShippingCustomerSupport\\nhttp://7...</td>\n",
       "      <td>1</td>\n",
       "      <td>1</td>\n",
       "    </tr>\n",
       "  </tbody>\n",
       "</table>\n",
       "</div>"
      ],
      "text/plain": [
       "                                              sender  \\\n",
       "0                   Young Esposito <Young@iworld.de>   \n",
       "1                       Mok <ipline's1983@icable.ph>   \n",
       "2  Daily Top 10 <Karmandeep-opengevl@universalnet...   \n",
       "3                 Michael Parker <ivqrnai@pobox.com>   \n",
       "4  Gretchen Suggs <externalsep1@loanofficertool.com>   \n",
       "\n",
       "                                         receiver  \\\n",
       "0                     user4@gvc.ceas-challenge.cc   \n",
       "1                   user2.2@gvc.ceas-challenge.cc   \n",
       "2                   user2.9@gvc.ceas-challenge.cc   \n",
       "3  SpamAssassin Dev <xrh@spamassassin.apache.org>   \n",
       "4                   user2.2@gvc.ceas-challenge.cc   \n",
       "\n",
       "                              date  \\\n",
       "0  Tue, 05 Aug 2008 16:31:02 -0700   \n",
       "1  Tue, 05 Aug 2008 18:31:03 -0500   \n",
       "2  Tue, 05 Aug 2008 20:28:00 -1200   \n",
       "3  Tue, 05 Aug 2008 17:31:20 -0600   \n",
       "4  Tue, 05 Aug 2008 19:31:21 -0400   \n",
       "\n",
       "                                             subject  \\\n",
       "0                          Never agree to be a loser   \n",
       "1                             Befriend Jenna Jameson   \n",
       "2                               CNN.com Daily Top 10   \n",
       "3  Re: svn commit: r619753 - in /spamassassin/tru...   \n",
       "4                         SpecialPricesPharmMoreinfo   \n",
       "\n",
       "                                                body  label  urls  \n",
       "0  Buck up, your troubles caused by small dimensi...      1     1  \n",
       "1  \\nUpgrade your sex and pleasures with these te...      1     1  \n",
       "2  >+=+=+=+=+=+=+=+=+=+=+=+=+=+=+=+=+=+=+=+=+=+=+...      1     1  \n",
       "3  Would anyone object to removing .so from this ...      0     1  \n",
       "4  \\nWelcomeFastShippingCustomerSupport\\nhttp://7...      1     1  "
      ]
     },
     "execution_count": 1,
     "metadata": {},
     "output_type": "execute_result"
    }
   ],
   "source": [
    "# This script is for loading the CEAS_08 dataset into a pandas DataFrame.\n",
    "\n",
    "# import necessary libraries\n",
    "import pandas as pd\n",
    "\n",
    "# Load the CEAS_08 dataset\n",
    "file_path = \"../data/raw/CEAS_08.csv\"  # Adjust if needed depending on where your notebook is\n",
    "\n",
    "# Read the CSV file\n",
    "df = pd.read_csv(file_path)\n",
    "\n",
    "# Show the basic shape of the data (rows, columns)\n",
    "print(f\"Dataset shape: {df.shape}\")\n",
    "\n",
    "# Show the first 5 rows to preview the structure\n",
    "df.head()"
   ]
  },
  {
   "cell_type": "code",
   "execution_count": 2,
   "metadata": {},
   "outputs": [
    {
     "name": "stdout",
     "output_type": "stream",
     "text": [
      "Missing values per column:\n",
      "sender        0\n",
      "receiver    462\n",
      "date          0\n",
      "subject      28\n",
      "body          0\n",
      "label         0\n",
      "urls          0\n",
      "dtype: int64\n"
     ]
    }
   ],
   "source": [
    "# Check for missing values in each column\n",
    "missing_values = df.isnull().sum()\n",
    "\n",
    "# Display the missing values\n",
    "print(\"Missing values per column:\")\n",
    "print(missing_values)"
   ]
  },
  {
   "cell_type": "code",
   "execution_count": 3,
   "metadata": {},
   "outputs": [
    {
     "name": "stdout",
     "output_type": "stream",
     "text": [
      "Missing values after cleaning:\n",
      "sender        0\n",
      "receiver    462\n",
      "date          0\n",
      "subject       0\n",
      "body          0\n",
      "label         0\n",
      "urls          0\n",
      "dtype: int64\n"
     ]
    },
    {
     "name": "stderr",
     "output_type": "stream",
     "text": [
      "C:\\Users\\lukes\\AppData\\Local\\Temp\\ipykernel_23724\\433587837.py:2: FutureWarning: A value is trying to be set on a copy of a DataFrame or Series through chained assignment using an inplace method.\n",
      "The behavior will change in pandas 3.0. This inplace method will never work because the intermediate object on which we are setting values always behaves as a copy.\n",
      "\n",
      "For example, when doing 'df[col].method(value, inplace=True)', try using 'df.method({col: value}, inplace=True)' or df[col] = df[col].method(value) instead, to perform the operation inplace on the original object.\n",
      "\n",
      "\n",
      "  df['subject'].fillna('[No Subject]', inplace=True)\n"
     ]
    }
   ],
   "source": [
    "# Fill missing subject lines with a placeholder\n",
    "df['subject'].fillna('[No Subject]', inplace=True)\n",
    "\n",
    "# For now, leave receiver as it is (optional: we might drop receiver column later if not useful)\n",
    "\n",
    "# Confirm no missing values remain (except receiver)\n",
    "print(\"Missing values after cleaning:\")\n",
    "print(df.isnull().sum())"
   ]
  },
  {
   "cell_type": "code",
   "execution_count": 4,
   "metadata": {},
   "outputs": [
    {
     "name": "stdout",
     "output_type": "stream",
     "text": [
      "Unique values in 'label':\n",
      "label\n",
      "1    21842\n",
      "0    17312\n",
      "Name: count, dtype: int64\n",
      "\n",
      "URLs column statistics:\n",
      "count    39154.00000\n",
      "mean         0.66997\n",
      "std          0.47023\n",
      "min          0.00000\n",
      "25%          0.00000\n",
      "50%          1.00000\n",
      "75%          1.00000\n",
      "max          1.00000\n",
      "Name: urls, dtype: float64\n"
     ]
    }
   ],
   "source": [
    "# Check unique values in label column\n",
    "print(\"Unique values in 'label':\")\n",
    "print(df['label'].value_counts())\n",
    "\n",
    "# Check basic statistics of the URLs column\n",
    "print(\"\\nURLs column statistics:\")\n",
    "print(df['urls'].describe())"
   ]
  },
  {
   "cell_type": "code",
   "execution_count": 5,
   "metadata": {},
   "outputs": [
    {
     "name": "stdout",
     "output_type": "stream",
     "text": [
      "Missing date values: 0\n",
      "\n",
      "Sample dates:\n",
      "12046    Wed, 06 Aug 2008 18:01:02 -0000\n",
      "36279    Fri, 08 Aug 2008 13:52:28 +0400\n",
      "23927    Thu, 07 Aug 2008 04:08:19 -0700\n",
      "13242    Wed, 06 Aug 2008 12:50:32 +0000\n",
      "26851    Thu, 07 Aug 2008 12:20:34 -0300\n",
      "Name: date, dtype: object\n",
      "\n",
      "Unparsable date entries: 15\n"
     ]
    },
    {
     "name": "stderr",
     "output_type": "stream",
     "text": [
      "C:\\Users\\lukes\\AppData\\Local\\Temp\\ipykernel_23724\\4159987168.py:11: FutureWarning: In a future version of pandas, parsing datetimes with mixed time zones will raise an error unless `utc=True`. Please specify `utc=True` to opt in to the new behaviour and silence this warning. To create a `Series` with mixed offsets and `object` dtype, please use `apply` and `datetime.datetime.strptime`\n",
      "  df['parsed_date'] = pd.to_datetime(df['date'], errors='coerce')\n"
     ]
    }
   ],
   "source": [
    "# Check if there are any missing values in the date column\n",
    "missing_dates = df['date'].isnull().sum()\n",
    "print(f\"Missing date values: {missing_dates}\")\n",
    "\n",
    "# Show a few sample dates to manually inspect their formatting\n",
    "print(\"\\nSample dates:\")\n",
    "print(df['date'].sample(5))\n",
    "\n",
    "# Try converting the 'date' column to datetime format to see if all dates are parsable\n",
    "# This will help us catch badly formatted dates\n",
    "df['parsed_date'] = pd.to_datetime(df['date'], errors='coerce')\n",
    "\n",
    "# Now check how many parsing errors happened (they will be NaT)\n",
    "bad_dates = df['parsed_date'].isnull().sum()\n",
    "print(f\"\\nUnparsable date entries: {bad_dates}\")"
   ]
  },
  {
   "cell_type": "code",
   "execution_count": 6,
   "metadata": {},
   "outputs": [
    {
     "name": "stdout",
     "output_type": "stream",
     "text": [
      "Dataset shape after dropping bad dates: (39139, 8)\n"
     ]
    }
   ],
   "source": [
    "# Drop rows where parsed_date could not be parsed\n",
    "df = df.dropna(subset=['parsed_date'])\n",
    "\n",
    "# Confirm new shape\n",
    "print(f\"Dataset shape after dropping bad dates: {df.shape}\")"
   ]
  },
  {
   "cell_type": "code",
   "execution_count": 7,
   "metadata": {},
   "outputs": [
    {
     "name": "stdout",
     "output_type": "stream",
     "text": [
      "                                             subject  \\\n",
      "0                          never agree to be a loser   \n",
      "1                             befriend jenna jameson   \n",
      "2                               cnn.com daily top 10   \n",
      "3  re: svn commit: r619753 - in /spamassassin/tru...   \n",
      "4                         specialpricespharmmoreinfo   \n",
      "\n",
      "                                                body  \n",
      "0  buck up, your troubles caused by small dimensi...  \n",
      "1  \\nupgrade your sex and pleasures with these te...  \n",
      "2  >+=+=+=+=+=+=+=+=+=+=+=+=+=+=+=+=+=+=+=+=+=+=+...  \n",
      "3  would anyone object to removing .so from this ...  \n",
      "4  \\nwelcomefastshippingcustomersupport\\nhttp://7...  \n"
     ]
    }
   ],
   "source": [
    "# Lowercase the text fields\n",
    "df['subject'] = df['subject'].str.lower()\n",
    "df['body'] = df['body'].str.lower()\n",
    "\n",
    "# Quick check\n",
    "print(df[['subject', 'body']].head())"
   ]
  },
  {
   "cell_type": "code",
   "execution_count": 8,
   "metadata": {},
   "outputs": [],
   "source": [
    "# Save the cleaned data to a new CSV\n",
    "df.to_csv(\"../data/processed/CEAS_08_cleaned.csv\", index=False)"
   ]
  }
 ],
 "metadata": {
  "kernelspec": {
   "display_name": ".venv",
   "language": "python",
   "name": "python3"
  },
  "language_info": {
   "codemirror_mode": {
    "name": "ipython",
    "version": 3
   },
   "file_extension": ".py",
   "mimetype": "text/x-python",
   "name": "python",
   "nbconvert_exporter": "python",
   "pygments_lexer": "ipython3",
   "version": "3.10.2"
  }
 },
 "nbformat": 4,
 "nbformat_minor": 2
}
