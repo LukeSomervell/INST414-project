{
 "cells": [
  {
   "cell_type": "code",
   "execution_count": 1,
   "metadata": {},
   "outputs": [
    {
     "name": "stdout",
     "output_type": "stream",
     "text": [
      "                                              sender  \\\n",
      "0                   Young Esposito <Young@iworld.de>   \n",
      "1                       Mok <ipline's1983@icable.ph>   \n",
      "2  Daily Top 10 <Karmandeep-opengevl@universalnet...   \n",
      "3                 Michael Parker <ivqrnai@pobox.com>   \n",
      "4  Gretchen Suggs <externalsep1@loanofficertool.com>   \n",
      "\n",
      "                                         receiver  \\\n",
      "0                     user4@gvc.ceas-challenge.cc   \n",
      "1                   user2.2@gvc.ceas-challenge.cc   \n",
      "2                   user2.9@gvc.ceas-challenge.cc   \n",
      "3  SpamAssassin Dev <xrh@spamassassin.apache.org>   \n",
      "4                   user2.2@gvc.ceas-challenge.cc   \n",
      "\n",
      "                              date  \\\n",
      "0  Tue, 05 Aug 2008 16:31:02 -0700   \n",
      "1  Tue, 05 Aug 2008 18:31:03 -0500   \n",
      "2  Tue, 05 Aug 2008 20:28:00 -1200   \n",
      "3  Tue, 05 Aug 2008 17:31:20 -0600   \n",
      "4  Tue, 05 Aug 2008 19:31:21 -0400   \n",
      "\n",
      "                                             subject  \\\n",
      "0                          never agree to be a loser   \n",
      "1                             befriend jenna jameson   \n",
      "2                               cnn.com daily top 10   \n",
      "3  re: svn commit: r619753 - in /spamassassin/tru...   \n",
      "4                         specialpricespharmmoreinfo   \n",
      "\n",
      "                                                body  label  urls  \\\n",
      "0  buck up, your troubles caused by small dimensi...      1     1   \n",
      "1  \\nupgrade your sex and pleasures with these te...      1     1   \n",
      "2  >+=+=+=+=+=+=+=+=+=+=+=+=+=+=+=+=+=+=+=+=+=+=+...      1     1   \n",
      "3  would anyone object to removing .so from this ...      0     1   \n",
      "4  \\nwelcomefastshippingcustomersupport\\nhttp://7...      1     1   \n",
      "\n",
      "                 parsed_date        sender_domain  body_length  subject_length  \n",
      "0  2008-08-05 16:31:02-07:00            iworld.de          273              25  \n",
      "1  2008-08-05 18:31:03-05:00            icable.ph           82              22  \n",
      "2  2008-08-05 20:28:00-12:00  universalnet.psi.br         3918              20  \n",
      "3  2008-08-05 17:31:20-06:00            pobox.com        24418             150  \n",
      "4  2008-08-05 19:31:21-04:00  loanofficertool.com          175              26  \n",
      "\n",
      "Columns: ['sender', 'receiver', 'date', 'subject', 'body', 'label', 'urls', 'parsed_date', 'sender_domain', 'body_length', 'subject_length']\n"
     ]
    }
   ],
   "source": [
    "# Import necessary libraries\n",
    "import pandas as pd\n",
    "\n",
    "# Load your feature-engineered dataset\n",
    "file_path = \"../data/processed/CEAS_08_feature_engineered.csv\"\n",
    "df = pd.read_csv(file_path)\n",
    "\n",
    "# Quick preview to confirm\n",
    "print(df.head())\n",
    "print(\"\\nColumns:\", df.columns.tolist())\n",
    "\n"
   ]
  },
  {
   "cell_type": "markdown",
   "metadata": {},
   "source": []
  },
  {
   "cell_type": "code",
   "execution_count": 2,
   "metadata": {},
   "outputs": [
    {
     "name": "stdout",
     "output_type": "stream",
     "text": [
      "         sender_domain  sender_domain_encoded\n",
      "0            iworld.de                   8891\n",
      "1            icable.ph                   8389\n",
      "2  universalnet.psi.br                  16392\n",
      "3            pobox.com                  12490\n",
      "4  loanofficertool.com                   9982\n"
     ]
    }
   ],
   "source": [
    "#First, lets encode sender domains\n",
    "from sklearn.preprocessing import LabelEncoder\n",
    "\n",
    "# Initialize the label encoder\n",
    "le = LabelEncoder()\n",
    "\n",
    "# Fit and transform sender_domain\n",
    "df['sender_domain_encoded'] = le.fit_transform(df['sender_domain'])\n",
    "\n",
    "# Quick preview\n",
    "print(df[['sender_domain', 'sender_domain_encoded']].head())"
   ]
  },
  {
   "cell_type": "code",
   "execution_count": 3,
   "metadata": {},
   "outputs": [],
   "source": [
    "# Define X (features) and y (target)\n",
    "X = df[['sender_domain_encoded', 'body_length', 'subject_length', 'urls']]\n",
    "y = df['label']"
   ]
  },
  {
   "cell_type": "markdown",
   "metadata": {},
   "source": [
    "# MODEL 1: Logistic Regression\n",
    "## In this section, we implement a Logistic Regression model as a baseline predictive algorithm for phishing email classification. Logistic Regression is chosen due to its simplicity, interpretability, and strong performance on binary classification tasks.\n",
    "We will use 5-fold cross-validation to assess model performance, measuring both accuracy and F1-score as evaluation metrics. The Logistic Regression model will be initialized with default hyperparameters. The features selected for modeling include sender domain (label-encoded), body text length, subject line length, and URL presence."
   ]
  },
  {
   "cell_type": "code",
   "execution_count": 4,
   "metadata": {},
   "outputs": [
    {
     "name": "stdout",
     "output_type": "stream",
     "text": [
      "Cross-Validation Accuracy (mean): 0.7184\n",
      "Cross-Validation F1-Score (mean): 0.7607\n",
      "Test Accuracy: 0.7176\n",
      "Test F1-Score: 0.7593\n",
      "Model saved successfully to 'models/' folder.\n"
     ]
    }
   ],
   "source": [
    "# Import required libraries\n",
    "from sklearn.linear_model import LogisticRegression\n",
    "from sklearn.model_selection import train_test_split, cross_val_score\n",
    "from sklearn.metrics import accuracy_score, f1_score\n",
    "from joblib import dump\n",
    "\n",
    "# 1. Train/Test Split\n",
    "X_train, X_test, y_train, y_test = train_test_split(X, y, test_size=0.2, random_state=42)\n",
    "\n",
    "# 2. Initialize Logistic Regression model (default hyperparameters)\n",
    "log_reg = LogisticRegression(max_iter=1000, random_state=42)\n",
    "\n",
    "# 3. Train the model\n",
    "log_reg.fit(X_train, y_train)\n",
    "\n",
    "# 4. Cross-Validation\n",
    "cv_accuracy = cross_val_score(log_reg, X_train, y_train, cv=5, scoring='accuracy')\n",
    "cv_f1 = cross_val_score(log_reg, X_train, y_train, cv=5, scoring='f1')\n",
    "\n",
    "# 5. Predict on Test Set\n",
    "y_pred = log_reg.predict(X_test)\n",
    "\n",
    "# 6. Evaluate on Test Set\n",
    "test_accuracy = accuracy_score(y_test, y_pred)\n",
    "test_f1 = f1_score(y_test, y_pred)\n",
    "\n",
    "# 7. Print Results\n",
    "print(f\"Cross-Validation Accuracy (mean): {cv_accuracy.mean():.4f}\")\n",
    "print(f\"Cross-Validation F1-Score (mean): {cv_f1.mean():.4f}\")\n",
    "print(f\"Test Accuracy: {test_accuracy:.4f}\")\n",
    "print(f\"Test F1-Score: {test_f1:.4f}\")\n",
    "\n",
    "# 8. Save the trained Logistic Regression model\n",
    "dump(log_reg, '../models/logistic_regression_model.pkl')\n",
    "print(\"Model saved successfully to 'models/' folder.\")\n"
   ]
  },
  {
   "cell_type": "markdown",
   "metadata": {},
   "source": [
    "## Logistic Regression Model Results\n",
    "The Logistic Regression model was evaluated using 5-fold cross-validation and an independent test set.\n",
    "\n",
    "Cross-Validation Accuracy (mean): 71.84%\n",
    "\n",
    "Cross-Validation F1-Score (mean): 76.07%\n",
    "\n",
    "Test Accuracy: 71.76%\n",
    "\n",
    "Test F1-Score: 75.93%\n",
    "\n",
    "The model demonstrates reasonable predictive performance for distinguishing phishing emails from legitimate ones based on engineered features. The Logistic Regression model was saved into the models/ directory for future reproducibility."
   ]
  },
  {
   "cell_type": "markdown",
   "metadata": {},
   "source": [
    "# MODEL 2: Decision Tree\n",
    "## In this section, a Decision Tree Classifier is implemented as a second baseline model for phishing email classification. Decision Trees are chosen due to their ability to capture non-linear relationships and feature interactions without requiring extensive preprocessing.\n",
    "The Decision Tree will be trained using default hyperparameters, with a fixed random_state=42 for reproducibility. Performance will be assessed using 5-fold cross-validation and an independent test set, measuring both accuracy and F1-score."
   ]
  },
  {
   "cell_type": "code",
   "execution_count": 5,
   "metadata": {},
   "outputs": [
    {
     "name": "stdout",
     "output_type": "stream",
     "text": [
      "Decision Tree Cross-Validation Accuracy (mean): 0.9154\n",
      "Decision Tree Cross-Validation F1-Score (mean): 0.9242\n",
      "Decision Tree Test Accuracy: 0.9113\n",
      "Decision Tree Test F1-Score: 0.9199\n",
      "Decision Tree model saved successfully to 'models/' folder.\n"
     ]
    }
   ],
   "source": [
    "# Import required library\n",
    "from sklearn.tree import DecisionTreeClassifier\n",
    "\n",
    "# 1. Initialize the Decision Tree model\n",
    "tree_model = DecisionTreeClassifier(random_state=42)\n",
    "\n",
    "# 2. Train the model\n",
    "tree_model.fit(X_train, y_train)\n",
    "\n",
    "# 3. Cross-Validation\n",
    "tree_cv_accuracy = cross_val_score(tree_model, X_train, y_train, cv=5, scoring='accuracy')\n",
    "tree_cv_f1 = cross_val_score(tree_model, X_train, y_train, cv=5, scoring='f1')\n",
    "\n",
    "# 4. Predict on Test Set\n",
    "tree_y_pred = tree_model.predict(X_test)\n",
    "\n",
    "# 5. Evaluate on Test Set\n",
    "tree_test_accuracy = accuracy_score(y_test, tree_y_pred)\n",
    "tree_test_f1 = f1_score(y_test, tree_y_pred)\n",
    "\n",
    "# 6. Print Results\n",
    "print(f\"Decision Tree Cross-Validation Accuracy (mean): {tree_cv_accuracy.mean():.4f}\")\n",
    "print(f\"Decision Tree Cross-Validation F1-Score (mean): {tree_cv_f1.mean():.4f}\")\n",
    "print(f\"Decision Tree Test Accuracy: {tree_test_accuracy:.4f}\")\n",
    "print(f\"Decision Tree Test F1-Score: {tree_test_f1:.4f}\")\n",
    "\n",
    "# 7. Save the trained Decision Tree model\n",
    "dump(tree_model, '../models/decision_tree_model.pkl')\n",
    "print(\"Decision Tree model saved successfully to 'models/' folder.\")\n"
   ]
  },
  {
   "cell_type": "markdown",
   "metadata": {},
   "source": [
    "## Decision Tree Classifier Results\n",
    "The Decision Tree Classifier was evaluated using 5-fold cross-validation and an independent test set.\n",
    "The evaluation metrics included accuracy and F1-score:\n",
    "\n",
    "Cross-Validation Accuracy (mean): 91.53%\n",
    "\n",
    "Cross-Validation F1-Score (mean): 92.42%\n",
    "\n",
    "Test Set Accuracy: 91.10%\n",
    "\n",
    "Test Set F1-Score: 91.93%\n",
    "\n",
    "The Decision Tree model demonstrated strong predictive performance on both training and testing data, indicating that it was able to capture complex relationships between features and the phishing label. \n",
    "The model was saved into the models/ directory for future reproducibility and deployment."
   ]
  },
  {
   "cell_type": "markdown",
   "metadata": {},
   "source": [
    "# Compare model performance using appropriate visualizations"
   ]
  },
  {
   "cell_type": "code",
   "execution_count": 6,
   "metadata": {},
   "outputs": [
    {
     "data": {
      "image/png": "[encoded data removed]",
      "text/plain": [
       "<Figure size 800x500 with 1 Axes>"
      ]
     },
     "metadata": {},
     "output_type": "display_data"
    }
   ],
   "source": [
    "import matplotlib.pyplot as plt\n",
    "\n",
    "# Define model names and their test scores\n",
    "models = ['Logistic Regression', 'Decision Tree']\n",
    "test_accuracies = [0.7176, 0.9110]\n",
    "test_f1_scores = [0.7593, 0.9193]\n",
    "\n",
    "# Plotting\n",
    "x = range(len(models))\n",
    "plt.figure(figsize=(8,5))\n",
    "plt.bar(x, test_accuracies, width=0.4, label='Test Accuracy', align='center')\n",
    "plt.bar(x, test_f1_scores, width=0.4, label='Test F1-Score', align='edge')\n",
    "\n",
    "plt.xticks(x, models)\n",
    "plt.ylim(0, 1)\n",
    "plt.ylabel('Score')\n",
    "plt.title('Model Comparison: Test Accuracy and F1-Score')\n",
    "plt.legend()\n",
    "plt.grid(axis='y')\n",
    "plt.show()"
   ]
  },
  {
   "cell_type": "markdown",
   "metadata": {},
   "source": [
    "## Model Performance Visualization\n",
    "The bar chart above compares the Logistic Regression and Decision Tree models based on their test set Accuracy and F1-Score.\n",
    "The visualization shows that the Decision Tree Classifier outperformed Logistic Regression across both evaluation metrics, achieving notably higher accuracy and F1-score. This visual comparison further supports the selection of the Decision Tree model for future work."
   ]
  },
  {
   "cell_type": "code",
   "execution_count": 7,
   "metadata": {},
   "outputs": [
    {
     "data": {
      "text/html": [
       "<div>\n",
       "<style scoped>\n",
       "    .dataframe tbody tr th:only-of-type {\n",
       "        vertical-align: middle;\n",
       "    }\n",
       "\n",
       "    .dataframe tbody tr th {\n",
       "        vertical-align: top;\n",
       "    }\n",
       "\n",
       "    .dataframe thead th {\n",
       "        text-align: right;\n",
       "    }\n",
       "</style>\n",
       "<table border=\"1\" class=\"dataframe\">\n",
       "  <thead>\n",
       "    <tr style=\"text-align: right;\">\n",
       "      <th></th>\n",
       "      <th>sender</th>\n",
       "      <th>receiver</th>\n",
       "      <th>date</th>\n",
       "      <th>subject</th>\n",
       "      <th>body</th>\n",
       "      <th>label</th>\n",
       "      <th>urls</th>\n",
       "      <th>parsed_date</th>\n",
       "      <th>sender_domain</th>\n",
       "      <th>body_length</th>\n",
       "      <th>subject_length</th>\n",
       "      <th>sender_domain_encoded</th>\n",
       "    </tr>\n",
       "  </thead>\n",
       "  <tbody>\n",
       "    <tr>\n",
       "      <th>0</th>\n",
       "      <td>Young Esposito &lt;Young@iworld.de&gt;</td>\n",
       "      <td>user4@gvc.ceas-challenge.cc</td>\n",
       "      <td>Tue, 05 Aug 2008 16:31:02 -0700</td>\n",
       "      <td>never agree to be a loser</td>\n",
       "      <td>buck up, your troubles caused by small dimensi...</td>\n",
       "      <td>1</td>\n",
       "      <td>1</td>\n",
       "      <td>2008-08-05 16:31:02-07:00</td>\n",
       "      <td>iworld.de</td>\n",
       "      <td>273</td>\n",
       "      <td>25</td>\n",
       "      <td>8891</td>\n",
       "    </tr>\n",
       "    <tr>\n",
       "      <th>1</th>\n",
       "      <td>Mok &lt;ipline's1983@icable.ph&gt;</td>\n",
       "      <td>user2.2@gvc.ceas-challenge.cc</td>\n",
       "      <td>Tue, 05 Aug 2008 18:31:03 -0500</td>\n",
       "      <td>befriend jenna jameson</td>\n",
       "      <td>\\nupgrade your sex and pleasures with these te...</td>\n",
       "      <td>1</td>\n",
       "      <td>1</td>\n",
       "      <td>2008-08-05 18:31:03-05:00</td>\n",
       "      <td>icable.ph</td>\n",
       "      <td>82</td>\n",
       "      <td>22</td>\n",
       "      <td>8389</td>\n",
       "    </tr>\n",
       "    <tr>\n",
       "      <th>2</th>\n",
       "      <td>Daily Top 10 &lt;Karmandeep-opengevl@universalnet...</td>\n",
       "      <td>user2.9@gvc.ceas-challenge.cc</td>\n",
       "      <td>Tue, 05 Aug 2008 20:28:00 -1200</td>\n",
       "      <td>cnn.com daily top 10</td>\n",
       "      <td>&gt;+=+=+=+=+=+=+=+=+=+=+=+=+=+=+=+=+=+=+=+=+=+=+...</td>\n",
       "      <td>1</td>\n",
       "      <td>1</td>\n",
       "      <td>2008-08-05 20:28:00-12:00</td>\n",
       "      <td>universalnet.psi.br</td>\n",
       "      <td>3918</td>\n",
       "      <td>20</td>\n",
       "      <td>16392</td>\n",
       "    </tr>\n",
       "    <tr>\n",
       "      <th>3</th>\n",
       "      <td>Michael Parker &lt;ivqrnai@pobox.com&gt;</td>\n",
       "      <td>SpamAssassin Dev &lt;xrh@spamassassin.apache.org&gt;</td>\n",
       "      <td>Tue, 05 Aug 2008 17:31:20 -0600</td>\n",
       "      <td>re: svn commit: r619753 - in /spamassassin/tru...</td>\n",
       "      <td>would anyone object to removing .so from this ...</td>\n",
       "      <td>0</td>\n",
       "      <td>1</td>\n",
       "      <td>2008-08-05 17:31:20-06:00</td>\n",
       "      <td>pobox.com</td>\n",
       "      <td>24418</td>\n",
       "      <td>150</td>\n",
       "      <td>12490</td>\n",
       "    </tr>\n",
       "    <tr>\n",
       "      <th>4</th>\n",
       "      <td>Gretchen Suggs &lt;externalsep1@loanofficertool.com&gt;</td>\n",
       "      <td>user2.2@gvc.ceas-challenge.cc</td>\n",
       "      <td>Tue, 05 Aug 2008 19:31:21 -0400</td>\n",
       "      <td>specialpricespharmmoreinfo</td>\n",
       "      <td>\\nwelcomefastshippingcustomersupport\\nhttp://7...</td>\n",
       "      <td>1</td>\n",
       "      <td>1</td>\n",
       "      <td>2008-08-05 19:31:21-04:00</td>\n",
       "      <td>loanofficertool.com</td>\n",
       "      <td>175</td>\n",
       "      <td>26</td>\n",
       "      <td>9982</td>\n",
       "    </tr>\n",
       "  </tbody>\n",
       "</table>\n",
       "</div>"
      ],
      "text/plain": [
       "                                              sender  \\\n",
       "0                   Young Esposito <Young@iworld.de>   \n",
       "1                       Mok <ipline's1983@icable.ph>   \n",
       "2  Daily Top 10 <Karmandeep-opengevl@universalnet...   \n",
       "3                 Michael Parker <ivqrnai@pobox.com>   \n",
       "4  Gretchen Suggs <externalsep1@loanofficertool.com>   \n",
       "\n",
       "                                         receiver  \\\n",
       "0                     user4@gvc.ceas-challenge.cc   \n",
       "1                   user2.2@gvc.ceas-challenge.cc   \n",
       "2                   user2.9@gvc.ceas-challenge.cc   \n",
       "3  SpamAssassin Dev <xrh@spamassassin.apache.org>   \n",
       "4                   user2.2@gvc.ceas-challenge.cc   \n",
       "\n",
       "                              date  \\\n",
       "0  Tue, 05 Aug 2008 16:31:02 -0700   \n",
       "1  Tue, 05 Aug 2008 18:31:03 -0500   \n",
       "2  Tue, 05 Aug 2008 20:28:00 -1200   \n",
       "3  Tue, 05 Aug 2008 17:31:20 -0600   \n",
       "4  Tue, 05 Aug 2008 19:31:21 -0400   \n",
       "\n",
       "                                             subject  \\\n",
       "0                          never agree to be a loser   \n",
       "1                             befriend jenna jameson   \n",
       "2                               cnn.com daily top 10   \n",
       "3  re: svn commit: r619753 - in /spamassassin/tru...   \n",
       "4                         specialpricespharmmoreinfo   \n",
       "\n",
       "                                                body  label  urls  \\\n",
       "0  buck up, your troubles caused by small dimensi...      1     1   \n",
       "1  \\nupgrade your sex and pleasures with these te...      1     1   \n",
       "2  >+=+=+=+=+=+=+=+=+=+=+=+=+=+=+=+=+=+=+=+=+=+=+...      1     1   \n",
       "3  would anyone object to removing .so from this ...      0     1   \n",
       "4  \\nwelcomefastshippingcustomersupport\\nhttp://7...      1     1   \n",
       "\n",
       "                 parsed_date        sender_domain  body_length  \\\n",
       "0  2008-08-05 16:31:02-07:00            iworld.de          273   \n",
       "1  2008-08-05 18:31:03-05:00            icable.ph           82   \n",
       "2  2008-08-05 20:28:00-12:00  universalnet.psi.br         3918   \n",
       "3  2008-08-05 17:31:20-06:00            pobox.com        24418   \n",
       "4  2008-08-05 19:31:21-04:00  loanofficertool.com          175   \n",
       "\n",
       "   subject_length  sender_domain_encoded  \n",
       "0              25                   8891  \n",
       "1              22                   8389  \n",
       "2              20                  16392  \n",
       "3             150                  12490  \n",
       "4              26                   9982  "
      ]
     },
     "execution_count": 7,
     "metadata": {},
     "output_type": "execute_result"
    }
   ],
   "source": [
    "df.head(5)"
   ]
  }
 ],
 "metadata": {
  "kernelspec": {
   "display_name": ".venv",
   "language": "python",
   "name": "python3"
  },
  "language_info": {
   "codemirror_mode": {
    "name": "ipython",
    "version": 3
   },
   "file_extension": ".py",
   "mimetype": "text/x-python",
   "name": "python",
   "nbconvert_exporter": "python",
   "pygments_lexer": "ipython3",
   "version": "3.10.2"
  }
 },
 "nbformat": 4,
 "nbformat_minor": 2
}
