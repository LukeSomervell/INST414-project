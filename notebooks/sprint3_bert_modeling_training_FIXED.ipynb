{
 "cells": [
  {
   "cell_type": "code",
   "execution_count": 1,
   "id": "9d499b3d",
   "metadata": {},
   "outputs": [],
   "source": [
    "\n",
    "from sklearn.metrics import accuracy_score, f1_score\n",
    "\n",
    "def compute_metrics(pred):\n",
    "    labels = pred.label_ids\n",
    "    preds = pred.predictions.argmax(-1)\n",
    "    f1 = f1_score(labels, preds)\n",
    "    acc = accuracy_score(labels, preds)\n",
    "    return {\"accuracy\": acc, \"f1\": f1}\n"
   ]
  },
  {
   "cell_type": "markdown",
   "metadata": {},
   "source": [
    "## 🧰 Environment & Dependencies\n",
    "\n",
    "To ensure this notebook runs as intended, install the following packages with the specified versions (GPU recommended for training):\n",
    "\n",
    "```bash\n",
    "transformers==4.39.3\n",
    "torch==2.2.1\n",
    "scikit-learn==1.4.1\n",
    "pandas==2.2.1\n",
    "numpy==1.26.4\n",
    "tqdm==4.66.1\n",
    "```\n",
    "\n",
    "If using a virtual environment:\n",
    "```bash\n",
    "pip install transformers==4.39.3 torch==2.2.1 scikit-learn==1.4.1 pandas==2.2.1 numpy==1.26.4 tqdm==4.66.1\n",
    "```\n",
    "\n",
    "Ensure your runtime supports CUDA (e.g., RTX 2060 or higher) for optimal training performance.\n"
   ]
  },
  {
   "cell_type": "markdown",
   "metadata": {},
   "source": [
    "# This notebook is meant to train and save the BERT model on the phishing email dataset.\n",
    "# It should be run once in a GPU environment. The saved model will be used for testing later. I have provided the file of the fine tuned model for testing, as this can be computationally intesive and time consuming\n",
    "\n",
    "\n",
    "# ## 1. Load Dataset"
   ]
  },
  {
   "cell_type": "code",
   "execution_count": 2,
   "metadata": {},
   "outputs": [],
   "source": [
    "import torch\n",
    "torch.cuda.empty_cache()"
   ]
  },
  {
   "cell_type": "code",
   "execution_count": 3,
   "metadata": {},
   "outputs": [],
   "source": [
    "# Import necessary libraries\n",
    "import pandas as pd\n",
    "import numpy as np\n",
    "from sklearn.model_selection import train_test_split\n",
    "from sklearn.metrics import classification_report, confusion_matrix\n",
    "from transformers import BertTokenizer, BertForSequenceClassification, Trainer, TrainingArguments\n",
    "import torch\n",
    "\n",
    "df = pd.read_csv(\"../data/processed/CEAS_08_feature_engineered.csv\")\n",
    "texts = df[\"body\"].fillna(\"\").tolist()\n",
    "labels = df[\"label\"].tolist()\n"
   ]
  },
  {
   "cell_type": "markdown",
   "metadata": {},
   "source": [
    "# ## 2. Split into Train and Validation Sets\n",
    "\n",
    "We will split the data into training and testing sets.\n",
    "- 80% of the emails will be used for training the BERT model.\n",
    "- 20% of the emails will be used for final evaluation.\n",
    "Stratified sampling will be used to ensure both classes (phishing and legitimate) are represented proportionally in both sets.\n"
   ]
  },
  {
   "cell_type": "code",
   "execution_count": 4,
   "metadata": {},
   "outputs": [],
   "source": [
    "# Perform train/test split\n",
    "from sklearn.model_selection import train_test_split\n",
    "# Use a smaller subset for faster experimentation\n",
    "texts_subset, _, labels_subset, _ = train_test_split(texts, labels, train_size=0.10, random_state=42)\n",
    "\n",
    "train_texts, val_texts, train_labels, val_labels = train_test_split(\n",
    "    texts_subset, labels_subset, test_size=0.2, random_state=42\n",
    ")\n"
   ]
  },
  {
   "cell_type": "markdown",
   "metadata": {},
   "source": [
    "# ## 3. Load Tokenizer and Tokenize Data\n"
   ]
  },
  {
   "cell_type": "code",
   "execution_count": 5,
   "metadata": {},
   "outputs": [
    {
     "name": "stderr",
     "output_type": "stream",
     "text": [
      "c:\\Users\\lukes\\OneDrive\\Documents\\GitHub\\INST414-project\\.venv\\lib\\site-packages\\huggingface_hub\\file_download.py:896: FutureWarning: `resume_download` is deprecated and will be removed in version 1.0.0. Downloads always resume when possible. If you want to force a new download, use `force_download=True`.\n",
      "  warnings.warn(\n"
     ]
    }
   ],
   "source": [
    "from transformers import BertTokenizer\n",
    "\n",
    "from transformers import BertTokenizer\n",
    "\n",
    "tokenizer = BertTokenizer.from_pretrained(\"bert-base-uncased\")\n",
    "\n",
    "train_encodings = tokenizer(train_texts, truncation=True, padding=True, max_length=512)\n",
    "val_encodings = tokenizer(val_texts, truncation=True, padding=True, max_length=512)\n"
   ]
  },
  {
   "cell_type": "markdown",
   "metadata": {},
   "source": [
    "# ## 4. Create PyTorch Dataset\n"
   ]
  },
  {
   "cell_type": "code",
   "execution_count": 6,
   "metadata": {},
   "outputs": [],
   "source": [
    "from transformers import BertForSequenceClassification\n",
    "\n",
    "# Load pre-trained BERT model for sequence classification (binary classification)\n",
    "import torch\n",
    "\n",
    "class EmailDataset(torch.utils.data.Dataset):\n",
    "    def __init__(self, encodings, labels):\n",
    "        self.encodings = encodings\n",
    "        self.labels = labels\n",
    "\n",
    "    def __getitem__(self, idx):\n",
    "        return {k: torch.tensor(v[idx]) for k, v in self.encodings.items()} | {\"labels\": torch.tensor(self.labels[idx])}\n",
    "\n",
    "    def __len__(self):\n",
    "        return len(self.labels)\n",
    "\n",
    "train_dataset = EmailDataset(train_encodings, train_labels)\n",
    "val_dataset = EmailDataset(val_encodings, val_labels)"
   ]
  },
  {
   "cell_type": "markdown",
   "metadata": {},
   "source": [
    "# ## 5. Load BERT Model for Classification\n"
   ]
  },
  {
   "cell_type": "code",
   "execution_count": 7,
   "metadata": {},
   "outputs": [
    {
     "name": "stderr",
     "output_type": "stream",
     "text": [
      "Some weights of BertForSequenceClassification were not initialized from the model checkpoint at bert-base-uncased and are newly initialized: ['classifier.bias', 'classifier.weight']\n",
      "You should probably TRAIN this model on a down-stream task to be able to use it for predictions and inference.\n"
     ]
    }
   ],
   "source": [
    "from transformers import BertForSequenceClassification\n",
    "\n",
    "model = BertForSequenceClassification.from_pretrained(\"bert-base-uncased\", num_labels=2)\n"
   ]
  },
  {
   "cell_type": "markdown",
   "metadata": {},
   "source": [
    "# ## 6. Define Training Arguments"
   ]
  },
  {
   "cell_type": "code",
   "execution_count": 8,
   "metadata": {},
   "outputs": [],
   "source": [
    "from transformers import TrainingArguments, Trainer\n",
    "\n",
    "training_args = TrainingArguments(\n",
    "    output_dir=\"../models/Bert_finetuned\",\n",
    "    num_train_epochs=1,  # Only 1 epoch\n",
    "    per_device_train_batch_size=8,  # Reduce batch size\n",
    "    per_device_eval_batch_size=16,\n",
    "    evaluation_strategy=\"epoch\",\n",
    "    save_strategy=\"epoch\",\n",
    "    load_best_model_at_end=True,\n",
    "    metric_for_best_model=\"f1\",\n",
    "    greater_is_better=True,\n",
    "    logging_dir=\"./logs\",\n",
    "    logging_steps=50,\n",
    ")"
   ]
  },
  {
   "cell_type": "markdown",
   "metadata": {},
   "source": [
    "# ## 7. Train the Model"
   ]
  },
  {
   "cell_type": "code",
   "execution_count": 10,
   "metadata": {},
   "outputs": [
    {
     "data": {
      "application/vnd.jupyter.widget-view+json": {
       "model_id": "80d13b0b23d34a289e76760cace7363c",
       "version_major": 2,
       "version_minor": 0
      },
      "text/plain": [
       "  0%|          | 0/392 [00:00<?, ?it/s]"
      ]
     },
     "metadata": {},
     "output_type": "display_data"
    },
    {
     "name": "stdout",
     "output_type": "stream",
     "text": [
      "{'loss': 0.0211, 'grad_norm': 0.0012361473636701703, 'learning_rate': 4.362244897959184e-05, 'epoch': 0.13}\n",
      "{'loss': 0.0706, 'grad_norm': 0.0011837815400213003, 'learning_rate': 3.724489795918368e-05, 'epoch': 0.26}\n",
      "{'loss': 0.0009, 'grad_norm': 0.005225313827395439, 'learning_rate': 3.086734693877551e-05, 'epoch': 0.38}\n",
      "{'loss': 0.0216, 'grad_norm': 0.0013830693205818534, 'learning_rate': 2.448979591836735e-05, 'epoch': 0.51}\n",
      "{'loss': 0.0167, 'grad_norm': 0.025902891531586647, 'learning_rate': 1.8112244897959187e-05, 'epoch': 0.64}\n",
      "{'loss': 0.0797, 'grad_norm': 0.001805033884011209, 'learning_rate': 1.1734693877551021e-05, 'epoch': 0.77}\n",
      "{'loss': 0.0392, 'grad_norm': 0.003276694566011429, 'learning_rate': 5.357142857142857e-06, 'epoch': 0.89}\n"
     ]
    },
    {
     "data": {
      "application/vnd.jupyter.widget-view+json": {
       "model_id": "38ece30d0ea94cf384f25773eed2ca92",
       "version_major": 2,
       "version_minor": 0
      },
      "text/plain": [
       "  0%|          | 0/49 [00:00<?, ?it/s]"
      ]
     },
     "metadata": {},
     "output_type": "display_data"
    },
    {
     "name": "stdout",
     "output_type": "stream",
     "text": [
      "{'eval_loss': 0.03711656108498573, 'eval_accuracy': 0.9936143039591315, 'eval_f1': 0.9940688018979834, 'eval_runtime': 31.2241, 'eval_samples_per_second': 25.077, 'eval_steps_per_second': 1.569, 'epoch': 1.0}\n",
      "{'train_runtime': 2810.9209, 'train_samples_per_second': 1.114, 'train_steps_per_second': 0.139, 'train_loss': 0.03447864892683467, 'epoch': 1.0}\n"
     ]
    },
    {
     "data": {
      "text/plain": [
       "TrainOutput(global_step=392, training_loss=0.03447864892683467, metrics={'train_runtime': 2810.9209, 'train_samples_per_second': 1.114, 'train_steps_per_second': 0.139, 'train_loss': 0.03447864892683467, 'epoch': 1.0})"
      ]
     },
     "execution_count": 10,
     "metadata": {},
     "output_type": "execute_result"
    }
   ],
   "source": [
    "trainer = Trainer(\n",
    "    model=model,\n",
    "    args=training_args,\n",
    "    train_dataset=train_dataset,\n",
    "    eval_dataset=val_dataset,\n",
    "    compute_metrics=compute_metrics,\n",
    ")\n",
    "\n",
    "\n",
    "trainer.train()"
   ]
  },
  {
   "cell_type": "markdown",
   "metadata": {},
   "source": [
    "# ## 8. Save Model and Tokenizer"
   ]
  },
  {
   "cell_type": "code",
   "execution_count": 11,
   "metadata": {},
   "outputs": [
    {
     "data": {
      "text/plain": [
       "('../models/Bert_finetuned\\\\tokenizer_config.json',\n",
       " '../models/Bert_finetuned\\\\special_tokens_map.json',\n",
       " '../models/Bert_finetuned\\\\vocab.txt',\n",
       " '../models/Bert_finetuned\\\\added_tokens.json')"
      ]
     },
     "execution_count": 11,
     "metadata": {},
     "output_type": "execute_result"
    }
   ],
   "source": [
    "model.save_pretrained(\"../models/Bert_finetuned\")\n",
    "tokenizer.save_pretrained(\"../models/Bert_finetuned\")"
   ]
  },
  {
   "cell_type": "markdown",
   "metadata": {},
   "source": [
    "# From here, we will be testing the model we created"
   ]
  },
  {
   "cell_type": "markdown",
   "metadata": {},
   "source": [
    "## Testing"
   ]
  },
  {
   "cell_type": "code",
   "execution_count": 1,
   "metadata": {},
   "outputs": [],
   "source": [
    "#1. Load your saved model and tokenizer\n",
    "from transformers import BertTokenizer, BertForSequenceClassification\n",
    "\n",
    "model_path = \"../models/Bert_finetuned\"\n",
    "tokenizer = BertTokenizer.from_pretrained(model_path)\n",
    "model = BertForSequenceClassification.from_pretrained(model_path)"
   ]
  },
  {
   "cell_type": "code",
   "execution_count": 2,
   "metadata": {},
   "outputs": [],
   "source": [
    "#2. Load and preprocess your test data\n",
    "#Make sure it matches how the training data was preprocessed (tokenized body field):\n",
    "import pandas as pd\n",
    "\n",
    "df = pd.read_csv(\"../data/processed/CEAS_08_feature_engineered.csv\")\n",
    "test_texts = df[\"body\"].fillna(\"\").tolist()\n",
    "test_labels = df[\"label\"].tolist()\n"
   ]
  },
  {
   "cell_type": "code",
   "execution_count": 3,
   "metadata": {},
   "outputs": [],
   "source": [
    "#3. Tokenize for BERT\n",
    "import torch\n",
    "\n",
    "inputs = tokenizer(test_texts, truncation=True, padding=True, max_length=512, return_tensors=\"pt\")\n"
   ]
  },
  {
   "cell_type": "code",
   "execution_count": 8,
   "metadata": {},
   "outputs": [
    {
     "data": {
      "application/vnd.jupyter.widget-view+json": {
       "model_id": "20d9d69a73e848b7b4b96bafcbe9a861",
       "version_major": 2,
       "version_minor": 0
      },
      "text/plain": [
       "  0%|          | 0/1224 [00:00<?, ?it/s]"
      ]
     },
     "metadata": {},
     "output_type": "display_data"
    },
    {
     "name": "stderr",
     "output_type": "stream",
     "text": [
      "C:\\Users\\lukes\\AppData\\Local\\Temp\\ipykernel_4688\\2248302231.py:16: UserWarning: To copy construct from a tensor, it is recommended to use sourceTensor.clone().detach() or sourceTensor.clone().detach().requires_grad_(True), rather than torch.tensor(sourceTensor).\n",
      "  return {key: torch.tensor(val[idx]) for key, val in self.encodings.items()}\n"
     ]
    }
   ],
   "source": [
    "# 4. Run inference\n",
    "from torch.utils.data import DataLoader\n",
    "from tqdm.auto import tqdm\n",
    "\n",
    "# Make sure model is on the right device\n",
    "device = torch.device(\"cuda\" if torch.cuda.is_available() else \"cpu\")\n",
    "model.to(device)\n",
    "model.eval()\n",
    "\n",
    "# Wrap inputs into a Dataset\n",
    "class BERTDataset(torch.utils.data.Dataset):\n",
    "    def __init__(self, encodings):\n",
    "        self.encodings = encodings\n",
    "\n",
    "    def __getitem__(self, idx):\n",
    "        return {key: torch.tensor(val[idx]) for key, val in self.encodings.items()}\n",
    "\n",
    "    def __len__(self):\n",
    "        return len(next(iter(self.encodings.values())))\n",
    "\n",
    "test_dataset = BERTDataset(inputs)\n",
    "\n",
    "# Create DataLoader for batching\n",
    "test_loader = DataLoader(test_dataset, batch_size=32)\n",
    "\n",
    "all_preds = []\n",
    "\n",
    "with torch.no_grad():\n",
    "    for batch in tqdm(test_loader):\n",
    "        batch = {k: v.to(device) for k, v in batch.items()}\n",
    "        outputs = model(**batch)\n",
    "        preds = torch.argmax(outputs.logits, dim=1)\n",
    "        all_preds.extend(preds.cpu().numpy())  # ✅ Use extend to get flat list\n"
   ]
  },
  {
   "cell_type": "code",
   "execution_count": 9,
   "metadata": {},
   "outputs": [
    {
     "name": "stdout",
     "output_type": "stream",
     "text": [
      "Predictions: 39139\n",
      "Labels:      39139\n"
     ]
    }
   ],
   "source": [
    "print(\"Predictions:\", len(all_preds))\n",
    "print(\"Labels:     \", len(test_labels))\n"
   ]
  },
  {
   "cell_type": "code",
   "execution_count": 10,
   "metadata": {},
   "outputs": [
    {
     "name": "stdout",
     "output_type": "stream",
     "text": [
      "Classification Report:\n",
      "               precision    recall  f1-score   support\n",
      "\n",
      "           0       0.99      0.99      0.99     17312\n",
      "           1       0.99      0.99      0.99     21827\n",
      "\n",
      "    accuracy                           0.99     39139\n",
      "   macro avg       0.99      0.99      0.99     39139\n",
      "weighted avg       0.99      0.99      0.99     39139\n",
      "\n",
      "Confusion Matrix:\n",
      " [[17164   148]\n",
      " [  154 21673]]\n"
     ]
    }
   ],
   "source": [
    "#5. Evaluate results\n",
    "from sklearn.metrics import classification_report, confusion_matrix\n",
    "\n",
    "print(\"Classification Report:\\n\", classification_report(test_labels, all_preds))\n",
    "print(\"Confusion Matrix:\\n\", confusion_matrix(test_labels, all_preds))\n",
    "\n"
   ]
  },
  {
   "cell_type": "markdown",
   "metadata": {},
   "source": [
    "## ✅ Model Training Summary & Results\n",
    "\n",
    "The BERT model was successfully fine-tuned for phishing email detection using the CEAS 2008 dataset. Key details:\n",
    "\n",
    "- **Base model**: `bert-base-uncased`\n",
    "- **Training time**: ~45 minutes on RTX 2060\n",
    "- **Training epochs**: 1\n",
    "- **Training batch size**: 8\n",
    "- **Validation strategy**: Evaluated after each epoch using F1-score\n",
    "\n",
    "### 🔍 Best Checkpoint:  \n",
    "- Saved in `../models/Bert_finetuned`  \n",
    "- Automatically selected based on highest F1-score during validation\n",
    "\n",
    "This notebook produces a fine-tuned model that is ready for evaluation or deployment. The testing also goes on within this notebook\n"
   ]
  }
 ],
 "metadata": {
  "kernelspec": {
   "display_name": ".venv",
   "language": "python",
   "name": "python3"
  },
  "language_info": {
   "codemirror_mode": {
    "name": "ipython",
    "version": 3
   },
   "file_extension": ".py",
   "mimetype": "text/x-python",
   "name": "python",
   "nbconvert_exporter": "python",
   "pygments_lexer": "ipython3",
   "version": "3.10.2"
  }
 },
 "nbformat": 4,
 "nbformat_minor": 2
}
