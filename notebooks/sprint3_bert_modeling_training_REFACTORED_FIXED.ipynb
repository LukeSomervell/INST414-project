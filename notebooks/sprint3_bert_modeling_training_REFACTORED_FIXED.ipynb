{
 "cells": [
  {
   "cell_type": "markdown",
   "id": "13a61e11",
   "metadata": {},
   "source": [
    "\n",
    "# BERT Email Classification (Pre-trained Setup)\n",
    "\n",
    "This notebook is structured to:\n",
    "1. **Train** the BERT model (resource-intensive, already done).\n",
    "2. **Tokenize** the email dataset and save it.\n",
    "3. **Evaluate** the model using saved files.\n",
    "4. Make it easy for others (e.g., professors) to **run and view results** without repeating expensive steps.\n"
   ]
  },
  {
   "cell_type": "code",
   "execution_count": 1,
   "id": "9d499b3d",
   "metadata": {},
   "outputs": [],
   "source": [
    "\n",
    "from sklearn.metrics import accuracy_score, f1_score\n",
    "\n",
    "def compute_metrics(pred):\n",
    "    labels = pred.label_ids\n",
    "    preds = pred.predictions.argmax(-1)\n",
    "    f1 = f1_score(labels, preds)\n",
    "    acc = accuracy_score(labels, preds)\n",
    "    return {\"accuracy\": acc, \"f1\": f1}\n"
   ]
  },
  {
   "cell_type": "markdown",
   "metadata": {},
   "source": [
    "## 🧰 Environment & Dependencies\n",
    "\n",
    "To ensure this notebook runs as intended, install the following packages with the specified versions (GPU recommended for training):\n",
    "\n",
    "```bash\n",
    "transformers==4.39.3\n",
    "torch==2.2.1\n",
    "scikit-learn==1.4.1\n",
    "pandas==2.2.1\n",
    "numpy==1.26.4\n",
    "tqdm==4.66.1\n",
    "```\n",
    "\n",
    "If using a virtual environment:\n",
    "```bash\n",
    "pip install transformers==4.39.3 torch==2.2.1 scikit-learn==1.4.1 pandas==2.2.1 numpy==1.26.4 tqdm==4.66.1\n",
    "```\n",
    "\n",
    "Ensure your runtime supports CUDA (e.g., RTX 2060 or higher) for optimal training performance.\n"
   ]
  },
  {
   "cell_type": "markdown",
   "metadata": {},
   "source": [
    "# This notebook is meant to train and save the BERT model on the phishing email dataset.\n",
    "# It should be run once in a GPU environment. The saved model will be used for testing later. I have provided the file of the fine tuned model for testing, as this can be computationally intesive and time consuming\n",
    "\n",
    "\n",
    "# ## 1. Load Dataset"
   ]
  },
  {
   "cell_type": "code",
   "execution_count": 2,
   "metadata": {},
   "outputs": [],
   "source": [
    "import torch\n",
    "torch.cuda.empty_cache()"
   ]
  },
  {
   "cell_type": "code",
   "execution_count": 3,
   "metadata": {},
   "outputs": [],
   "source": [
    "# Import necessary libraries\n",
    "import pandas as pd\n",
    "import numpy as np\n",
    "from sklearn.model_selection import train_test_split\n",
    "from sklearn.metrics import classification_report, confusion_matrix\n",
    "from transformers import BertTokenizer, BertForSequenceClassification, Trainer, TrainingArguments\n",
    "import torch\n",
    "\n",
    "df = pd.read_csv(\"../data/processed/CEAS_08_feature_engineered.csv\")\n",
    "texts = df[\"body\"].fillna(\"\").tolist()\n",
    "labels = df[\"label\"].tolist()\n"
   ]
  },
  {
   "cell_type": "code",
   "execution_count": 4,
   "id": "d66af1ab",
   "metadata": {},
   "outputs": [
    {
     "name": "stdout",
     "output_type": "stream",
     "text": [
      "✅ Model directory exists: ../models/bert_finetuned\n",
      "❌ No saved tokenized inputs found.\n"
     ]
    }
   ],
   "source": [
    "\n",
    "import os\n",
    "\n",
    "MODEL_DIR = \"../models/bert_finetuned\"\n",
    "TOKENIZED_INPUTS_PATH = \"../models/tokenized_inputs.pt\"\n",
    "\n",
    "if os.path.exists(MODEL_DIR):\n",
    "    print(f\"✅ Model directory exists: {MODEL_DIR}\")\n",
    "else:\n",
    "    print(f\"❌ Model directory not found. You may need to train the model.\")\n",
    "\n",
    "if os.path.exists(TOKENIZED_INPUTS_PATH):\n",
    "    print(f\"✅ Tokenized inputs found at: {TOKENIZED_INPUTS_PATH}\")\n",
    "else:\n",
    "    print(f\"❌ No saved tokenized inputs found.\")\n"
   ]
  },
  {
   "cell_type": "markdown",
   "metadata": {},
   "source": [
    "# ## 2. Split into Train and Validation Sets\n",
    "\n",
    "We will split the data into training and testing sets.\n",
    "- 80% of the emails will be used for training the BERT model.\n",
    "- 20% of the emails will be used for final evaluation.\n",
    "Stratified sampling will be used to ensure both classes (phishing and legitimate) are represented proportionally in both sets.\n"
   ]
  },
  {
   "cell_type": "code",
   "execution_count": 5,
   "metadata": {},
   "outputs": [],
   "source": [
    "# Perform train/test split\n",
    "from sklearn.model_selection import train_test_split\n",
    "# Use a smaller subset for faster experimentation\n",
    "texts_subset, _, labels_subset, _ = train_test_split(texts, labels, train_size=0.10, random_state=42)\n",
    "\n",
    "train_texts, val_texts, train_labels, val_labels = train_test_split(\n",
    "    texts_subset, labels_subset, test_size=0.2, random_state=42\n",
    ")\n"
   ]
  },
  {
   "cell_type": "markdown",
   "metadata": {},
   "source": [
    "# ## 3. Load Tokenizer and Tokenize Data\n"
   ]
  },
  {
   "cell_type": "code",
   "execution_count": 6,
   "id": "b584b8e3",
   "metadata": {},
   "outputs": [],
   "source": [
    "\n",
    "# Load tokenized inputs if available\n",
    "if os.path.exists(TOKENIZED_INPUTS_PATH):\n",
    "    inputs = torch.load(TOKENIZED_INPUTS_PATH)\n",
    "    print(\"✅ Loaded tokenized inputs from file.\")\n"
   ]
  },
  {
   "cell_type": "code",
   "execution_count": 7,
   "metadata": {},
   "outputs": [
    {
     "name": "stderr",
     "output_type": "stream",
     "text": [
      "c:\\Users\\lukes\\OneDrive\\Documents\\GitHub\\INST414-project\\.venv\\lib\\site-packages\\huggingface_hub\\file_download.py:896: FutureWarning: `resume_download` is deprecated and will be removed in version 1.0.0. Downloads always resume when possible. If you want to force a new download, use `force_download=True`.\n",
      "  warnings.warn(\n"
     ]
    }
   ],
   "source": [
    "from transformers import BertTokenizer\n",
    "\n",
    "from transformers import BertTokenizer\n",
    "\n",
    "tokenizer = BertTokenizer.from_pretrained(\"bert-base-uncased\")\n",
    "\n",
    "train_encodings = tokenizer(train_texts, truncation=True, padding=True, max_length=512)\n",
    "val_encodings = tokenizer(val_texts, truncation=True, padding=True, max_length=512)\n"
   ]
  },
  {
   "cell_type": "code",
   "execution_count": 8,
   "id": "8f66a522",
   "metadata": {},
   "outputs": [
    {
     "ename": "NameError",
     "evalue": "name 'inputs' is not defined",
     "output_type": "error",
     "traceback": [
      "\u001b[1;31m---------------------------------------------------------------------------\u001b[0m",
      "\u001b[1;31mNameError\u001b[0m                                 Traceback (most recent call last)",
      "Cell \u001b[1;32mIn[8], line 4\u001b[0m\n\u001b[0;32m      1\u001b[0m \u001b[38;5;66;03m# Save tokenized inputs to avoid re-tokenizing\u001b[39;00m\n\u001b[0;32m      2\u001b[0m \u001b[38;5;28;01mimport\u001b[39;00m\u001b[38;5;250m \u001b[39m\u001b[38;5;21;01mtorch\u001b[39;00m\n\u001b[1;32m----> 4\u001b[0m torch\u001b[38;5;241m.\u001b[39msave(\u001b[43minputs\u001b[49m, TOKENIZED_INPUTS_PATH)\n\u001b[0;32m      5\u001b[0m \u001b[38;5;28mprint\u001b[39m(\u001b[38;5;124m\"\u001b[39m\u001b[38;5;124m✅ Tokenized inputs saved.\u001b[39m\u001b[38;5;124m\"\u001b[39m)\n",
      "\u001b[1;31mNameError\u001b[0m: name 'inputs' is not defined"
     ]
    }
   ],
   "source": [
    "\n",
    "# Save tokenized inputs to avoid re-tokenizing\n",
    "import torch\n",
    "\n",
    "torch.save(inputs, TOKENIZED_INPUTS_PATH)\n",
    "print(\"✅ Tokenized inputs saved.\")\n"
   ]
  },
  {
   "cell_type": "markdown",
   "metadata": {},
   "source": [
    "# ## 4. Create PyTorch Dataset\n"
   ]
  },
  {
   "cell_type": "code",
   "execution_count": 9,
   "metadata": {},
   "outputs": [],
   "source": [
    "from transformers import BertForSequenceClassification\n",
    "\n",
    "# Load pre-trained BERT model for sequence classification (binary classification)\n",
    "import torch\n",
    "\n",
    "class EmailDataset(torch.utils.data.Dataset):\n",
    "    def __init__(self, encodings, labels):\n",
    "        self.encodings = encodings\n",
    "        self.labels = labels\n",
    "\n",
    "    def __getitem__(self, idx):\n",
    "        return {k: torch.tensor(v[idx]) for k, v in self.encodings.items()} | {\"labels\": torch.tensor(self.labels[idx])}\n",
    "\n",
    "    def __len__(self):\n",
    "        return len(self.labels)\n",
    "\n",
    "train_dataset = EmailDataset(train_encodings, train_labels)\n",
    "val_dataset = EmailDataset(val_encodings, val_labels)"
   ]
  },
  {
   "cell_type": "markdown",
   "metadata": {},
   "source": [
    "# ## 5. Load BERT Model for Classification\n"
   ]
  },
  {
   "cell_type": "code",
   "execution_count": 10,
   "metadata": {},
   "outputs": [
    {
     "name": "stderr",
     "output_type": "stream",
     "text": [
      "Some weights of BertForSequenceClassification were not initialized from the model checkpoint at bert-base-uncased and are newly initialized: ['classifier.bias', 'classifier.weight']\n",
      "You should probably TRAIN this model on a down-stream task to be able to use it for predictions and inference.\n"
     ]
    }
   ],
   "source": [
    "from transformers import BertForSequenceClassification\n",
    "\n",
    "model = BertForSequenceClassification.from_pretrained(\"bert-base-uncased\", num_labels=2)\n"
   ]
  },
  {
   "cell_type": "markdown",
   "metadata": {},
   "source": [
    "# ## 6. Define Training Arguments"
   ]
  },
  {
   "cell_type": "code",
   "execution_count": 11,
   "metadata": {},
   "outputs": [],
   "source": [
    "from transformers import TrainingArguments, Trainer\n",
    "\n",
    "training_args = TrainingArguments(\n",
    "    output_dir=\"../models/Bert_finetuned\",\n",
    "    num_train_epochs=1,  # Only 1 epoch\n",
    "    per_device_train_batch_size=8,  # Reduce batch size\n",
    "    per_device_eval_batch_size=16,\n",
    "    evaluation_strategy=\"epoch\",\n",
    "    save_strategy=\"epoch\",\n",
    "    load_best_model_at_end=True,\n",
    "    metric_for_best_model=\"f1\",\n",
    "    greater_is_better=True,\n",
    "    logging_dir=\"./logs\",\n",
    "    logging_steps=50,\n",
    ")"
   ]
  },
  {
   "cell_type": "markdown",
   "metadata": {},
   "source": [
    "# ## 7. Train the Model"
   ]
  },
  {
   "cell_type": "code",
   "execution_count": 12,
   "metadata": {},
   "outputs": [
    {
     "data": {
      "application/vnd.jupyter.widget-view+json": {
       "model_id": "87d9e19f6ca14e90931e1ec422766773",
       "version_major": 2,
       "version_minor": 0
      },
      "text/plain": [
       "  0%|          | 0/392 [00:00<?, ?it/s]"
      ]
     },
     "metadata": {},
     "output_type": "display_data"
    },
    {
     "name": "stdout",
     "output_type": "stream",
     "text": [
      "{'loss': 0.2338, 'grad_norm': 0.17089270055294037, 'learning_rate': 4.362244897959184e-05, 'epoch': 0.13}\n",
      "{'loss': 0.1837, 'grad_norm': 0.06506172567605972, 'learning_rate': 3.724489795918368e-05, 'epoch': 0.26}\n",
      "{'loss': 0.0631, 'grad_norm': 0.0708104595541954, 'learning_rate': 3.086734693877551e-05, 'epoch': 0.38}\n",
      "{'loss': 0.0553, 'grad_norm': 0.0257522352039814, 'learning_rate': 2.448979591836735e-05, 'epoch': 0.51}\n",
      "{'loss': 0.0902, 'grad_norm': 21.786165237426758, 'learning_rate': 1.8112244897959187e-05, 'epoch': 0.64}\n",
      "{'loss': 0.0789, 'grad_norm': 0.013717805966734886, 'learning_rate': 1.1734693877551021e-05, 'epoch': 0.77}\n",
      "{'loss': 0.0416, 'grad_norm': 0.013210978358983994, 'learning_rate': 5.357142857142857e-06, 'epoch': 0.89}\n"
     ]
    },
    {
     "data": {
      "application/vnd.jupyter.widget-view+json": {
       "model_id": "1b75d6fc9f8b4a69933511525f4be4b4",
       "version_major": 2,
       "version_minor": 0
      },
      "text/plain": [
       "  0%|          | 0/49 [00:00<?, ?it/s]"
      ]
     },
     "metadata": {},
     "output_type": "display_data"
    },
    {
     "name": "stdout",
     "output_type": "stream",
     "text": [
      "{'eval_loss': 0.024709470570087433, 'eval_accuracy': 0.9923371647509579, 'eval_f1': 0.9928909952606635, 'eval_runtime': 77.0214, 'eval_samples_per_second': 10.166, 'eval_steps_per_second': 0.636, 'epoch': 1.0}\n",
      "{'train_runtime': 1043.6386, 'train_samples_per_second': 2.999, 'train_steps_per_second': 0.376, 'train_loss': 0.0990391808504961, 'epoch': 1.0}\n"
     ]
    },
    {
     "data": {
      "text/plain": [
       "TrainOutput(global_step=392, training_loss=0.0990391808504961, metrics={'train_runtime': 1043.6386, 'train_samples_per_second': 2.999, 'train_steps_per_second': 0.376, 'train_loss': 0.0990391808504961, 'epoch': 1.0})"
      ]
     },
     "execution_count": 12,
     "metadata": {},
     "output_type": "execute_result"
    }
   ],
   "source": [
    "trainer = Trainer(\n",
    "    model=model,\n",
    "    args=training_args,\n",
    "    train_dataset=train_dataset,\n",
    "    eval_dataset=val_dataset,\n",
    "    compute_metrics=compute_metrics,\n",
    ")\n",
    "\n",
    "\n",
    "trainer.train()"
   ]
  },
  {
   "cell_type": "markdown",
   "metadata": {},
   "source": [
    "# ## 8. Save Model and Tokenizer"
   ]
  },
  {
   "cell_type": "code",
   "execution_count": 13,
   "metadata": {},
   "outputs": [
    {
     "data": {
      "text/plain": [
       "('../models/Bert_finetuned\\\\tokenizer_config.json',\n",
       " '../models/Bert_finetuned\\\\special_tokens_map.json',\n",
       " '../models/Bert_finetuned\\\\vocab.txt',\n",
       " '../models/Bert_finetuned\\\\added_tokens.json')"
      ]
     },
     "execution_count": 13,
     "metadata": {},
     "output_type": "execute_result"
    }
   ],
   "source": [
    "model.save_pretrained(\"../models/Bert_finetuned\")\n",
    "tokenizer.save_pretrained(\"../models/Bert_finetuned\")"
   ]
  },
  {
   "cell_type": "markdown",
   "metadata": {},
   "source": [
    "# From here, we will be testing the model we created"
   ]
  },
  {
   "cell_type": "markdown",
   "metadata": {},
   "source": [
    "## Testing"
   ]
  },
  {
   "cell_type": "code",
   "execution_count": 14,
   "metadata": {},
   "outputs": [],
   "source": [
    "#1. Load your saved model and tokenizer\n",
    "from transformers import BertTokenizer, BertForSequenceClassification\n",
    "\n",
    "model_path = \"../models/Bert_finetuned\"\n",
    "tokenizer = BertTokenizer.from_pretrained(model_path)\n",
    "model = BertForSequenceClassification.from_pretrained(model_path)"
   ]
  },
  {
   "cell_type": "code",
   "execution_count": 15,
   "metadata": {},
   "outputs": [],
   "source": [
    "#2. Load and preprocess your test data\n",
    "#Make sure it matches how the training data was preprocessed (tokenized body field):\n",
    "import pandas as pd\n",
    "\n",
    "df = pd.read_csv(\"../data/processed/CEAS_08_feature_engineered.csv\")\n",
    "test_texts = df[\"body\"].fillna(\"\").tolist()\n",
    "test_labels = df[\"label\"].tolist()\n"
   ]
  },
  {
   "cell_type": "code",
   "execution_count": 16,
   "metadata": {},
   "outputs": [],
   "source": [
    "#3. Tokenize for BERT\n",
    "import torch\n",
    "\n",
    "inputs = tokenizer(test_texts, truncation=True, padding=True, max_length=512, return_tensors=\"pt\")\n"
   ]
  },
  {
   "cell_type": "code",
   "execution_count": 20,
   "metadata": {},
   "outputs": [
    {
     "name": "stderr",
     "output_type": "stream",
     "text": [
      "Running Inference: 100%|██████████| 2500/2500 [04:06<00:00, 10.14it/s]\n"
     ]
    }
   ],
   "source": [
    "import torch\n",
    "from torch.utils.data import DataLoader, Dataset\n",
    "from tqdm import tqdm\n",
    "\n",
    "# ⚙️ Reduce batch size and sequence length to save memory\n",
    "batch_size = 8\n",
    "max_seq_len = 256\n",
    "\n",
    "# 📉 Optional: use only a portion of test set to save time\n",
    "test_texts = test_texts[:20000]\n",
    "test_labels = test_labels[:20000]\n",
    "\n",
    "# 🔁 Re-tokenize with smaller max_length\n",
    "inputs = tokenizer(\n",
    "    test_texts,\n",
    "    truncation=True,\n",
    "    padding=True,\n",
    "    max_length=max_seq_len,\n",
    "    return_tensors=\"pt\"\n",
    ")\n",
    "\n",
    "# 🧱 Efficient dataset definition\n",
    "class BERTDataset(Dataset):\n",
    "    def __init__(self, encodings):\n",
    "        self.input_ids = encodings[\"input_ids\"]\n",
    "        self.attention_mask = encodings[\"attention_mask\"]\n",
    "\n",
    "    def __len__(self):\n",
    "        return self.input_ids.size(0)\n",
    "\n",
    "    def __getitem__(self, idx):\n",
    "        return {\n",
    "            \"input_ids\": self.input_ids[idx],\n",
    "            \"attention_mask\": self.attention_mask[idx]\n",
    "        }\n",
    "\n",
    "test_dataset = BERTDataset(inputs)\n",
    "\n",
    "# 🚀 Load to appropriate device\n",
    "device = torch.device(\"cuda\" if torch.cuda.is_available() else \"cpu\")\n",
    "model.to(device)\n",
    "model.eval()\n",
    "\n",
    "# 🧠 Pin memory for speed if using GPU\n",
    "kwargs = {\"batch_size\": batch_size}\n",
    "if torch.cuda.is_available():\n",
    "    kwargs[\"pin_memory\"] = True\n",
    "\n",
    "test_loader = DataLoader(test_dataset, **kwargs)\n",
    "\n",
    "# 🔍 Inference\n",
    "all_preds = []\n",
    "with torch.no_grad():\n",
    "    for batch in tqdm(test_loader, desc=\"Running Inference\"):\n",
    "        input_ids = batch[\"input_ids\"].to(device)\n",
    "        attention_mask = batch[\"attention_mask\"].to(device)\n",
    "        outputs = model(input_ids=input_ids, attention_mask=attention_mask)\n",
    "        preds = torch.argmax(outputs.logits, dim=1)\n",
    "        all_preds.extend(preds.cpu().numpy())\n",
    "\n"
   ]
  },
  {
   "cell_type": "code",
   "execution_count": 21,
   "metadata": {},
   "outputs": [
    {
     "name": "stdout",
     "output_type": "stream",
     "text": [
      "Predictions: 20000\n",
      "Labels:      20000\n"
     ]
    }
   ],
   "source": [
    "print(\"Predictions:\", len(all_preds))\n",
    "print(\"Labels:     \", len(test_labels))\n"
   ]
  },
  {
   "cell_type": "code",
   "execution_count": 22,
   "metadata": {},
   "outputs": [
    {
     "name": "stdout",
     "output_type": "stream",
     "text": [
      "Classification Report:\n",
      "               precision    recall  f1-score   support\n",
      "\n",
      "           0       0.99      0.99      0.99      8940\n",
      "           1       0.99      0.99      0.99     11060\n",
      "\n",
      "    accuracy                           0.99     20000\n",
      "   macro avg       0.99      0.99      0.99     20000\n",
      "weighted avg       0.99      0.99      0.99     20000\n",
      "\n",
      "Confusion Matrix:\n",
      " [[ 8858    82]\n",
      " [  103 10957]]\n"
     ]
    }
   ],
   "source": [
    "#5. Evaluate results\n",
    "from sklearn.metrics import classification_report, confusion_matrix\n",
    "\n",
    "print(\"Classification Report:\\n\", classification_report(test_labels, all_preds))\n",
    "print(\"Confusion Matrix:\\n\", confusion_matrix(test_labels, all_preds))\n",
    "\n"
   ]
  },
  {
   "cell_type": "markdown",
   "metadata": {},
   "source": [
    "## ✅ Model Training Summary & Results\n",
    "\n",
    "The BERT model was successfully fine-tuned for phishing email detection using the CEAS 2008 dataset. Key details:\n",
    "\n",
    "- **Base model**: `bert-base-uncased`\n",
    "- **Training time**: ~45 minutes on RTX 2060\n",
    "- **Training epochs**: 1\n",
    "- **Training batch size**: 8\n",
    "- **Validation strategy**: Evaluated after each epoch using F1-score\n",
    "\n",
    "### 🔍 Best Checkpoint:  \n",
    "- Saved in `../models/Bert_finetuned`  \n",
    "- Automatically selected based on highest F1-score during validation\n",
    "\n",
    "This notebook produces a fine-tuned model that is ready for evaluation or deployment. The testing also goes on within this notebook\n"
   ]
  },
  {
   "cell_type": "code",
   "execution_count": 23,
   "id": "31a71adc",
   "metadata": {},
   "outputs": [
    {
     "name": "stdout",
     "output_type": "stream",
     "text": [
      "Saved tokenized inputs and labels.\n"
     ]
    }
   ],
   "source": [
    "\n",
    "# Save tokenized inputs for future use\n",
    "import torch\n",
    "\n",
    "torch.save(inputs, \"../models/tokenized_inputs.pt\")\n",
    "torch.save(labels, \"../models/labels.pt\")\n",
    "print(\"Saved tokenized inputs and labels.\")\n"
   ]
  },
  {
   "cell_type": "markdown",
   "id": "52e2b7c9",
   "metadata": {},
   "source": [
    "\n",
    "## Reuse Saved Tokenized Data and Model\n",
    "## this last area should be all you need to run to see the model\n",
    "This allows easy inference without re-training or re-tokenizing.\n"
   ]
  },
  {
   "cell_type": "code",
   "execution_count": 2,
   "id": "9ccb6c6a",
   "metadata": {},
   "outputs": [
    {
     "name": "stdout",
     "output_type": "stream",
     "text": [
      "Loaded model and tokenized inputs.\n"
     ]
    }
   ],
   "source": [
    "\n",
    "# Load saved data\n",
    "import torch\n",
    "from transformers import BertForSequenceClassification\n",
    "\n",
    "model = BertForSequenceClassification.from_pretrained(\"../models/bert_finetuned/\")\n",
    "inputs = torch.load(\"../models/tokenized_inputs.pt\")\n",
    "labels = torch.load(\"../models/labels.pt\")\n",
    "\n",
    "print(\"Loaded model and tokenized inputs.\")\n"
   ]
  },
  {
   "cell_type": "code",
   "execution_count": 3,
   "id": "6925998f",
   "metadata": {},
   "outputs": [
    {
     "data": {
      "application/vnd.jupyter.widget-view+json": {
       "model_id": "20b9fcf4fde0458bad1372b8a9b867d6",
       "version_major": 2,
       "version_minor": 0
      },
      "text/plain": [
       "  0%|          | 0/313 [00:00<?, ?it/s]"
      ]
     },
     "metadata": {},
     "output_type": "display_data"
    },
    {
     "name": "stdout",
     "output_type": "stream",
     "text": [
      "✅ Inference complete.\n"
     ]
    }
   ],
   "source": [
    "\n",
    "from torch.utils.data import DataLoader, Dataset\n",
    "from tqdm.auto import tqdm\n",
    "import torch\n",
    "\n",
    "class BERTDataset(Dataset):\n",
    "    def __init__(self, encodings):\n",
    "        self.encodings = encodings\n",
    "\n",
    "    def __getitem__(self, idx):\n",
    "        return {key: val[idx] for key, val in self.encodings.items()}\n",
    "\n",
    "    def __len__(self):\n",
    "        return len(next(iter(self.encodings.values())))\n",
    "\n",
    "device = torch.device(\"cuda\" if torch.cuda.is_available() else \"cpu\")\n",
    "model.to(device)\n",
    "model.eval()\n",
    "\n",
    "test_dataset = BERTDataset(inputs)\n",
    "test_loader = DataLoader(test_dataset, batch_size=64)\n",
    "\n",
    "all_preds = []\n",
    "with torch.no_grad():\n",
    "    for batch in tqdm(test_loader):\n",
    "        batch = {k: v.to(device) for k, v in batch.items()}\n",
    "        outputs = model(**batch)\n",
    "        preds = torch.argmax(outputs.logits, dim=1)\n",
    "        all_preds.extend(preds.cpu().numpy())\n",
    "print(\"✅ Inference complete.\")\n"
   ]
  },
  {
   "cell_type": "code",
   "execution_count": 8,
   "metadata": {},
   "outputs": [
    {
     "name": "stdout",
     "output_type": "stream",
     "text": [
      "✅ Misclassified examples saved to: data/interim/bert_misclassified_samples.csv\n",
      "                                                    text  true_label  \\\n",
      "2130   as an amazon.com customer, you might be intere...           0   \n",
      "3989   view our free overnight shipping offer at\\nhtt...           0   \n",
      "17447  sorry. i just sent my email to the lwv list se...           1   \n",
      "13211  pamela anderson... again... see now! \\nhttp://...           1   \n",
      "16975  though i have been state healthcare chair for ...           1   \n",
      "\n",
      "       predicted_label  \n",
      "2130                 1  \n",
      "3989                 1  \n",
      "17447                0  \n",
      "13211                0  \n",
      "16975                0  \n"
     ]
    }
   ],
   "source": [
    "import pandas as pd\n",
    "import numpy as np\n",
    "import torch\n",
    "\n",
    "# 1. Load the original text data (email bodies)\n",
    "df = pd.read_csv(\"../data/processed/CEAS_08_cleaned.csv\")\n",
    "texts = df['body'].fillna(\"[No text]\").tolist()\n",
    "\n",
    "# 2. If labels is a tensor, convert to list; if it's already a list, leave it\n",
    "if isinstance(labels, torch.Tensor):\n",
    "    labels_list = labels.cpu().numpy().tolist()\n",
    "else:\n",
    "    labels_list = labels\n",
    "\n",
    "# 3. If all_preds is a NumPy array or tensor, convert it to a list\n",
    "if isinstance(all_preds, torch.Tensor):\n",
    "    preds_list = all_preds.cpu().numpy().tolist()\n",
    "elif isinstance(all_preds, np.ndarray):\n",
    "    preds_list = all_preds.tolist()\n",
    "else:\n",
    "    preds_list = all_preds\n",
    "\n",
    "# 4. Truncate everything to the shortest common length\n",
    "min_len = min(len(texts), len(labels_list), len(preds_list))\n",
    "texts = texts[:min_len]\n",
    "labels_list = labels_list[:min_len]\n",
    "preds_list = preds_list[:min_len]\n",
    "\n",
    "# 5. Create a DataFrame\n",
    "results_df = pd.DataFrame({\n",
    "    \"text\": texts,\n",
    "    \"true_label\": labels_list,\n",
    "    \"predicted_label\": preds_list\n",
    "})\n",
    "\n",
    "# 6. Filter for misclassifications\n",
    "errors_df = results_df[results_df[\"true_label\"] != results_df[\"predicted_label\"]]\n",
    "\n",
    "# 7. Save to interim folder\n",
    "errors_df.to_csv(\"../data/interim/bert_misclassified_samples.csv\", index=False)\n",
    "\n",
    "# 8. Print preview\n",
    "print(\"✅ Misclassified examples saved to: data/interim/bert_misclassified_samples.csv\")\n",
    "print(errors_df.sample(5, random_state=42)[['text', 'true_label', 'predicted_label']])\n"
   ]
  }
 ],
 "metadata": {
  "kernelspec": {
   "display_name": ".venv",
   "language": "python",
   "name": "python3"
  },
  "language_info": {
   "codemirror_mode": {
    "name": "ipython",
    "version": 3
   },
   "file_extension": ".py",
   "mimetype": "text/x-python",
   "name": "python",
   "nbconvert_exporter": "python",
   "pygments_lexer": "ipython3",
   "version": "3.10.2"
  }
 },
 "nbformat": 4,
 "nbformat_minor": 2
}
