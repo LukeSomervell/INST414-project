{
 "cells": [
  {
   "cell_type": "markdown",
   "metadata": {},
   "source": [
    "#"
   ]
  },
  {
   "cell_type": "code",
   "execution_count": 1,
   "metadata": {},
   "outputs": [
    {
     "name": "stdout",
     "output_type": "stream",
     "text": [
      "                                              sender  \\\n",
      "0                   Young Esposito <Young@iworld.de>   \n",
      "1                       Mok <ipline's1983@icable.ph>   \n",
      "2  Daily Top 10 <Karmandeep-opengevl@universalnet...   \n",
      "3                 Michael Parker <ivqrnai@pobox.com>   \n",
      "4  Gretchen Suggs <externalsep1@loanofficertool.com>   \n",
      "\n",
      "                                         receiver  \\\n",
      "0                     user4@gvc.ceas-challenge.cc   \n",
      "1                   user2.2@gvc.ceas-challenge.cc   \n",
      "2                   user2.9@gvc.ceas-challenge.cc   \n",
      "3  SpamAssassin Dev <xrh@spamassassin.apache.org>   \n",
      "4                   user2.2@gvc.ceas-challenge.cc   \n",
      "\n",
      "                              date  \\\n",
      "0  Tue, 05 Aug 2008 16:31:02 -0700   \n",
      "1  Tue, 05 Aug 2008 18:31:03 -0500   \n",
      "2  Tue, 05 Aug 2008 20:28:00 -1200   \n",
      "3  Tue, 05 Aug 2008 17:31:20 -0600   \n",
      "4  Tue, 05 Aug 2008 19:31:21 -0400   \n",
      "\n",
      "                                             subject  \\\n",
      "0                          never agree to be a loser   \n",
      "1                             befriend jenna jameson   \n",
      "2                               cnn.com daily top 10   \n",
      "3  re: svn commit: r619753 - in /spamassassin/tru...   \n",
      "4                         specialpricespharmmoreinfo   \n",
      "\n",
      "                                                body  label  urls  \\\n",
      "0  buck up, your troubles caused by small dimensi...      1     1   \n",
      "1  \\nupgrade your sex and pleasures with these te...      1     1   \n",
      "2  >+=+=+=+=+=+=+=+=+=+=+=+=+=+=+=+=+=+=+=+=+=+=+...      1     1   \n",
      "3  would anyone object to removing .so from this ...      0     1   \n",
      "4  \\nwelcomefastshippingcustomersupport\\nhttp://7...      1     1   \n",
      "\n",
      "                 parsed_date        sender_domain  body_length  subject_length  \n",
      "0  2008-08-05 16:31:02-07:00            iworld.de          273              25  \n",
      "1  2008-08-05 18:31:03-05:00            icable.ph           82              22  \n",
      "2  2008-08-05 20:28:00-12:00  universalnet.psi.br         3918              20  \n",
      "3  2008-08-05 17:31:20-06:00            pobox.com        24418             150  \n",
      "4  2008-08-05 19:31:21-04:00  loanofficertool.com          175              26  \n",
      "\n",
      "Columns: ['sender', 'receiver', 'date', 'subject', 'body', 'label', 'urls', 'parsed_date', 'sender_domain', 'body_length', 'subject_length']\n",
      "\n",
      "Feature matrix shape: (39139, 4)\n",
      "Target vector shape: (39139,)\n"
     ]
    }
   ],
   "source": [
    "# Import necessary libraries\n",
    "import pandas as pd\n",
    "from sklearn.preprocessing import LabelEncoder\n",
    "\n",
    "# Load the feature-engineered dataset\n",
    "file_path = \"../data/processed/CEAS_08_feature_engineered.csv\"\n",
    "df = pd.read_csv(file_path)\n",
    "\n",
    "# Quick preview\n",
    "print(df.head())\n",
    "print(\"\\nColumns:\", df.columns.tolist())\n",
    "\n",
    "# Encode sender_domain into numbers\n",
    "le = LabelEncoder()\n",
    "df['sender_domain_encoded'] = le.fit_transform(df['sender_domain'])\n",
    "\n",
    "# Define feature matrix (X) and target vector (y)\n",
    "X = df[['sender_domain_encoded', 'body_length', 'subject_length', 'urls']]\n",
    "y = df['label']\n",
    "\n",
    "print(\"\\nFeature matrix shape:\", X.shape)\n",
    "print(\"Target vector shape:\", y.shape)\n"
   ]
  },
  {
   "cell_type": "markdown",
   "metadata": {},
   "source": [
    "# here we will begin to split the test and train data"
   ]
  },
  {
   "cell_type": "code",
   "execution_count": 2,
   "metadata": {},
   "outputs": [
    {
     "name": "stdout",
     "output_type": "stream",
     "text": [
      "X_train shape: (31311, 4)\n",
      "X_test shape: (7828, 4)\n",
      "y_train shape: (31311,)\n",
      "y_test shape: (7828,)\n"
     ]
    }
   ],
   "source": [
    "from sklearn.model_selection import train_test_split\n",
    "\n",
    "# Split the data\n",
    "X_train, X_test, y_train, y_test = train_test_split(\n",
    "    X, y, test_size=0.2, random_state=42, stratify=y\n",
    ")\n",
    "\n",
    "# Confirm split shapes\n",
    "print(\"X_train shape:\", X_train.shape)\n",
    "print(\"X_test shape:\", X_test.shape)\n",
    "print(\"y_train shape:\", y_train.shape)\n",
    "print(\"y_test shape:\", y_test.shape)"
   ]
  },
  {
   "cell_type": "markdown",
   "metadata": {},
   "source": [
    "# Tune Logistic Regression:\n",
    "- Search different values of C and penalty\n",
    "- 5-fold cross-validate on X_train\n",
    "- Find the best settings for maximum F1-Score (because F1 matters most in phishing detection)-"
   ]
  },
  {
   "cell_type": "code",
   "execution_count": 3,
   "metadata": {},
   "outputs": [
    {
     "name": "stdout",
     "output_type": "stream",
     "text": [
      "Fitting 5 folds for each of 10 candidates, totalling 50 fits\n",
      "Best Logistic Regression hyperparameters: {'C': 1, 'penalty': 'l1'}\n",
      "Best cross-validated F1-Score: 0.7575581754097515\n"
     ]
    }
   ],
   "source": [
    "from sklearn.linear_model import LogisticRegression\n",
    "from sklearn.model_selection import GridSearchCV\n",
    "\n",
    "# Define the Logistic Regression model\n",
    "log_reg = LogisticRegression(solver='liblinear', random_state=42)\n",
    "\n",
    "# Define the hyperparameter grid to search\n",
    "param_grid = {\n",
    "    'C': [0.01, 0.1, 1, 10, 100],\n",
    "    'penalty': ['l1', 'l2']\n",
    "}\n",
    "\n",
    "# Set up GridSearchCV\n",
    "grid_search_logreg = GridSearchCV(\n",
    "    estimator=log_reg,\n",
    "    param_grid=param_grid,\n",
    "    scoring='f1',\n",
    "    cv=5,\n",
    "    n_jobs=-1,\n",
    "    verbose=2\n",
    ")\n",
    "\n",
    "# Fit the grid search\n",
    "grid_search_logreg.fit(X_train, y_train)\n",
    "\n",
    "# Print the best hyperparameters and best score\n",
    "print(\"Best Logistic Regression hyperparameters:\", grid_search_logreg.best_params_)\n",
    "print(\"Best cross-validated F1-Score:\", grid_search_logreg.best_score_)\n"
   ]
  },
  {
   "cell_type": "markdown",
   "metadata": {},
   "source": [
    "## Logistic Regression Hyperparameter Tuning Summary\n",
    "A Logistic Regression model was tuned using GridSearchCV to optimize its performance on phishing email detection.\n",
    "The hyperparameters tuned were:\n",
    "\n",
    "- C (Inverse regularization strength): [0.01, 0.1, 1, 10, 100]\n",
    "\n",
    "- penalty (Regularization type): ['l1', 'l2']\n",
    "\n",
    "The tuning process used 5-fold cross-validation, optimizing for F1-Score due to the importance of balancing precision and recall in this classification task.\n",
    "\n",
    "Best Hyperparameters Found:\n",
    "\n",
    "- C = 10\n",
    "\n",
    "- penalty = 'l1'\n",
    "\n",
    "Best Cross-Validated F1-Score: 0.758 (rounded)\n",
    "\n",
    "These hyperparameters will be used to evaluate Logistic Regression on the independent test set."
   ]
  },
  {
   "cell_type": "markdown",
   "metadata": {},
   "source": [
    "# Tunning Decsision Tree"
   ]
  },
  {
   "cell_type": "code",
   "execution_count": 4,
   "metadata": {},
   "outputs": [
    {
     "name": "stdout",
     "output_type": "stream",
     "text": [
      "Fitting 5 folds for each of 45 candidates, totalling 225 fits\n",
      "Best Decision Tree hyperparameters: {'max_depth': 10, 'min_samples_leaf': 2, 'min_samples_split': 5}\n",
      "Best cross-validated F1-Score: 0.9310386048026456\n"
     ]
    }
   ],
   "source": [
    "from sklearn.tree import DecisionTreeClassifier\n",
    "\n",
    "# Define the Decision Tree model\n",
    "tree_model = DecisionTreeClassifier(random_state=42)\n",
    "\n",
    "# Define the hyperparameter grid to search\n",
    "param_grid_tree = {\n",
    "    'max_depth': [5, 10, 20, 30, None],\n",
    "    'min_samples_split': [2, 5, 10],\n",
    "    'min_samples_leaf': [1, 2, 5]\n",
    "}\n",
    "\n",
    "# Set up GridSearchCV\n",
    "grid_search_tree = GridSearchCV(\n",
    "    estimator=tree_model,\n",
    "    param_grid=param_grid_tree,\n",
    "    scoring='f1',\n",
    "    cv=5,\n",
    "    n_jobs=-1,\n",
    "    verbose=2\n",
    ")\n",
    "\n",
    "# Fit the grid search\n",
    "grid_search_tree.fit(X_train, y_train)\n",
    "\n",
    "# Print the best hyperparameters and best score\n",
    "print(\"Best Decision Tree hyperparameters:\", grid_search_tree.best_params_)\n",
    "print(\"Best cross-validated F1-Score:\", grid_search_tree.best_score_)\n"
   ]
  },
  {
   "cell_type": "markdown",
   "metadata": {},
   "source": [
    "# Decision Tree Hyperparameter Tuning Summary\n",
    "A Decision Tree Classifier was tuned using GridSearchCV to optimize its performance on phishing email detection.\n",
    "The hyperparameters tuned were:\n",
    "- max_depth (The maximum depth of the tree): [5, 10, 20, 30, None]\n",
    "- min_samples_split (Minimum samples needed to split an internal node): [2, 5, 10]\n",
    "- min_samples_leaf (Minimum samples needed at a leaf node): [1, 2, 5]\n",
    "\n",
    "The tuning process used 5-fold cross-validation, optimizing for F1-Score due to the importance of balancing precision and recall in this classification task.\n",
    "\n",
    "Best Hyperparameters Found:\n",
    "- max_depth = 10\n",
    "- min_samples_leaf = 2\n",
    "- min_samples_split = 5\n",
    "\n",
    "Best Cross-Validated F1-Score: 0.931 (rounded)\n",
    "\n",
    "These hyperparameters will be used to evaluate the Decision Tree model on the independent test set."
   ]
  },
  {
   "cell_type": "markdown",
   "metadata": {},
   "source": [
    "# Evaluate models"
   ]
  },
  {
   "cell_type": "code",
   "execution_count": 5,
   "metadata": {},
   "outputs": [
    {
     "name": "stdout",
     "output_type": "stream",
     "text": [
      "Logistic Regression Test Accuracy: 0.7204\n",
      "Logistic Regression Test F1-Score: 0.7637\n",
      "\n",
      "Decision Tree Test Accuracy: 0.929\n",
      "Decision Tree Test F1-Score: 0.9361\n"
     ]
    },
    {
     "data": {
      "image/png": "[encoded data removed]",
      "text/plain": [
       "<Figure size 640x480 with 2 Axes>"
      ]
     },
     "metadata": {},
     "output_type": "display_data"
    },
    {
     "data": {
      "image/png": "[encoded data removed]",
      "text/plain": [
       "<Figure size 640x480 with 2 Axes>"
      ]
     },
     "metadata": {},
     "output_type": "display_data"
    }
   ],
   "source": [
    "from sklearn.metrics import accuracy_score, f1_score, confusion_matrix, ConfusionMatrixDisplay\n",
    "import matplotlib.pyplot as plt\n",
    "\n",
    "# Predict using best Logistic Regression\n",
    "logreg_best = grid_search_logreg.best_estimator_\n",
    "y_pred_logreg = logreg_best.predict(X_test)\n",
    "\n",
    "# Predict using best Decision Tree\n",
    "tree_best = grid_search_tree.best_estimator_\n",
    "y_pred_tree = tree_best.predict(X_test)\n",
    "\n",
    "# Evaluate Logistic Regression\n",
    "logreg_accuracy = accuracy_score(y_test, y_pred_logreg)\n",
    "logreg_f1 = f1_score(y_test, y_pred_logreg)\n",
    "\n",
    "print(\"Logistic Regression Test Accuracy:\", round(logreg_accuracy, 4))\n",
    "print(\"Logistic Regression Test F1-Score:\", round(logreg_f1, 4))\n",
    "\n",
    "# Evaluate Decision Tree\n",
    "tree_accuracy = accuracy_score(y_test, y_pred_tree)\n",
    "tree_f1 = f1_score(y_test, y_pred_tree)\n",
    "\n",
    "print(\"\\nDecision Tree Test Accuracy:\", round(tree_accuracy, 4))\n",
    "print(\"Decision Tree Test F1-Score:\", round(tree_f1, 4))\n",
    "\n",
    "# Plot Confusion Matrix for Logistic Regression\n",
    "ConfusionMatrixDisplay.from_predictions(y_test, y_pred_logreg)\n",
    "plt.title(\"Confusion Matrix: Logistic Regression\")\n",
    "plt.show()\n",
    "\n",
    "# Plot Confusion Matrix for Decision Tree\n",
    "ConfusionMatrixDisplay.from_predictions(y_test, y_pred_tree)\n",
    "plt.title(\"Confusion Matrix: Decision Tree\")\n",
    "plt.show()\n"
   ]
  },
  {
   "cell_type": "markdown",
   "metadata": {},
   "source": [
    "# Test Set Evaluation Summary\n",
    "Both tuned models were evaluated on the held-out test set. Key performance metrics:\n",
    "\n",
    "Logistic Regression\n",
    "- Test Accuracy: 0.7205\n",
    "- Test F1-Score:  0.7639\n",
    "\n",
    "Decision Tree\n",
    "- Test Accuracy: 0.929 \n",
    "- Test F1-Score: 0.9363\n",
    "\n",
    "\n",
    "Confusion matrix analysis shows that the Decision Tree model significantly outperforms the Logistic Regression model. It achieves both higher accuracy and F1-Score, and its confusion matrix indicates fewer false positives and false negatives. The Decision Tree model demonstrates superior capability in correctly classifying phishing and legitimate emails, capturing both precision and recall more effectively.\n",
    "\n",
    "Given these results, the Decision Tree is selected as the primary model for further deployment and business value calibration.\n",
    "\n"
   ]
  },
  {
   "cell_type": "markdown",
   "metadata": {},
   "source": [
    "# Qualitative Error Analysis: Logistic Regression\n"
   ]
  },
  {
   "cell_type": "code",
   "execution_count": 6,
   "metadata": {},
   "outputs": [
    {
     "name": "stdout",
     "output_type": "stream",
     "text": [
      "Logistic Regression made 2189 mistakes out of 7828 test samples.\n"
     ]
    },
    {
     "data": {
      "text/html": [
       "<div>\n",
       "<style scoped>\n",
       "    .dataframe tbody tr th:only-of-type {\n",
       "        vertical-align: middle;\n",
       "    }\n",
       "\n",
       "    .dataframe tbody tr th {\n",
       "        vertical-align: top;\n",
       "    }\n",
       "\n",
       "    .dataframe thead th {\n",
       "        text-align: right;\n",
       "    }\n",
       "</style>\n",
       "<table border=\"1\" class=\"dataframe\">\n",
       "  <thead>\n",
       "    <tr style=\"text-align: right;\">\n",
       "      <th></th>\n",
       "      <th>sender</th>\n",
       "      <th>subject</th>\n",
       "      <th>body</th>\n",
       "      <th>true_label</th>\n",
       "      <th>predicted_label</th>\n",
       "    </tr>\n",
       "  </thead>\n",
       "  <tbody>\n",
       "    <tr>\n",
       "      <th>37541</th>\n",
       "      <td>Dobedani &lt;dobedani@gmx.net&gt;</td>\n",
       "      <td>[r] invoking r from application</td>\n",
       "      <td>dear all, i'm trying to invoke r from an appli...</td>\n",
       "      <td>0</td>\n",
       "      <td>1</td>\n",
       "    </tr>\n",
       "    <tr>\n",
       "      <th>16061</th>\n",
       "      <td>tqukqzpx@spamassassin.zones.apache.org</td>\n",
       "      <td>buildbot failure in t-feisty-561</td>\n",
       "      <td>the buildbot has detected a new failure of t-f...</td>\n",
       "      <td>0</td>\n",
       "      <td>1</td>\n",
       "    </tr>\n",
       "    <tr>\n",
       "      <th>2363</th>\n",
       "      <td>qydlqcws-iacfym@issues.apache.org</td>\n",
       "      <td>[bug 5668] debug information incorrect</td>\n",
       "      <td>http://issues.apache.org/spamassassin/show_bug...</td>\n",
       "      <td>0</td>\n",
       "      <td>1</td>\n",
       "    </tr>\n",
       "    <tr>\n",
       "      <th>5170</th>\n",
       "      <td>O'Reilly Media &lt;qcqujfnz@oreilly.com&gt;</td>\n",
       "      <td>take control ebooks now available</td>\n",
       "      <td>***new from o'reilly media***\\n\\ntake control ...</td>\n",
       "      <td>0</td>\n",
       "      <td>1</td>\n",
       "    </tr>\n",
       "    <tr>\n",
       "      <th>2865</th>\n",
       "      <td>Roger Meyer &lt;cwfwv@gvc.ceas-challenge.cc&gt;</td>\n",
       "      <td>re: week 6</td>\n",
       "      <td>tony, this link doesn't go to the quiz and i c...</td>\n",
       "      <td>0</td>\n",
       "      <td>1</td>\n",
       "    </tr>\n",
       "  </tbody>\n",
       "</table>\n",
       "</div>"
      ],
      "text/plain": [
       "                                          sender  \\\n",
       "37541                Dobedani <dobedani@gmx.net>   \n",
       "16061     tqukqzpx@spamassassin.zones.apache.org   \n",
       "2363           qydlqcws-iacfym@issues.apache.org   \n",
       "5170       O'Reilly Media <qcqujfnz@oreilly.com>   \n",
       "2865   Roger Meyer <cwfwv@gvc.ceas-challenge.cc>   \n",
       "\n",
       "                                      subject  \\\n",
       "37541         [r] invoking r from application   \n",
       "16061        buildbot failure in t-feisty-561   \n",
       "2363   [bug 5668] debug information incorrect   \n",
       "5170        take control ebooks now available   \n",
       "2865                               re: week 6   \n",
       "\n",
       "                                                    body  true_label  \\\n",
       "37541  dear all, i'm trying to invoke r from an appli...           0   \n",
       "16061  the buildbot has detected a new failure of t-f...           0   \n",
       "2363   http://issues.apache.org/spamassassin/show_bug...           0   \n",
       "5170   ***new from o'reilly media***\\n\\ntake control ...           0   \n",
       "2865   tony, this link doesn't go to the quiz and i c...           0   \n",
       "\n",
       "       predicted_label  \n",
       "37541                1  \n",
       "16061                1  \n",
       "2363                 1  \n",
       "5170                 1  \n",
       "2865                 1  "
      ]
     },
     "execution_count": 6,
     "metadata": {},
     "output_type": "execute_result"
    }
   ],
   "source": [
    "# Create a DataFrame comparing predictions to true labels for Logistic Regression\n",
    "logreg_errors = df.loc[y_test.index].copy()\n",
    "logreg_errors['true_label'] = y_test\n",
    "logreg_errors['predicted_label'] = y_pred_logreg\n",
    "\n",
    "# Find where Logistic Regression made mistakes\n",
    "logreg_mistakes = logreg_errors[logreg_errors['true_label'] != logreg_errors['predicted_label']]\n",
    "\n",
    "print(f\"Logistic Regression made {len(logreg_mistakes)} mistakes out of {len(y_test)} test samples.\")\n",
    "\n",
    "# Display a few mistaken examples for Logistic Regression\n",
    "logreg_mistakes[['sender', 'subject', 'body', 'true_label', 'predicted_label']].sample(5, random_state=42)\n"
   ]
  },
  {
   "cell_type": "markdown",
   "metadata": {},
   "source": [
    "## Qualitative Error Analysis: Logistic Regression\n",
    "\n",
    "Upon examining misclassified examples by the Logistic Regression model, several consistent patterns emerged:\n",
    "\n",
    "- **Technical language confusion**: Legitimate emails discussing technical topics (e.g., \"python com objects,\" \"email headers\") were incorrectly flagged as phishing.\n",
    "- **Vague or urgent subject lines**: Legitimate inquiries with short or general subjects (e.g., \"info about your gallery script,\" \"parameter estimation question\") triggered false positives.\n",
    "- **Shallow feature reliance**: The Logistic Regression model, being linear, struggled to distinguish between legitimate and phishing emails when based solely on individual keyword presence rather than overall email context.\n",
    "\n",
    "These findings suggest that more complex models that can capture text structure and context may provide better phishing detection performance.\n",
    "\n",
    "\n"
   ]
  },
  {
   "cell_type": "markdown",
   "metadata": {},
   "source": [
    "# Qualitative Error Analysis: Descision Trees"
   ]
  },
  {
   "cell_type": "code",
   "execution_count": 7,
   "metadata": {},
   "outputs": [
    {
     "name": "stdout",
     "output_type": "stream",
     "text": [
      "Decision Tree made 556 mistakes out of 7828 test samples.\n"
     ]
    },
    {
     "data": {
      "text/html": [
       "<div>\n",
       "<style scoped>\n",
       "    .dataframe tbody tr th:only-of-type {\n",
       "        vertical-align: middle;\n",
       "    }\n",
       "\n",
       "    .dataframe tbody tr th {\n",
       "        vertical-align: top;\n",
       "    }\n",
       "\n",
       "    .dataframe thead th {\n",
       "        text-align: right;\n",
       "    }\n",
       "</style>\n",
       "<table border=\"1\" class=\"dataframe\">\n",
       "  <thead>\n",
       "    <tr style=\"text-align: right;\">\n",
       "      <th></th>\n",
       "      <th>sender</th>\n",
       "      <th>subject</th>\n",
       "      <th>body</th>\n",
       "      <th>true_label</th>\n",
       "      <th>predicted_label</th>\n",
       "    </tr>\n",
       "  </thead>\n",
       "  <tbody>\n",
       "    <tr>\n",
       "      <th>38881</th>\n",
       "      <td>Meagan Leah &lt;leah_py@cmgraphix.com&gt;</td>\n",
       "      <td>:: cialisviagra :: free pills for u! save up t...</td>\n",
       "      <td>\\nwe give you freeviagrapills (free 4 - ...</td>\n",
       "      <td>1</td>\n",
       "      <td>0</td>\n",
       "    </tr>\n",
       "    <tr>\n",
       "      <th>38671</th>\n",
       "      <td>jimmi61 &lt;zdmkr@libero.it&gt;</td>\n",
       "      <td>re: [sm-users] slash wrongly encoded as %2f in...</td>\n",
       "      <td>\\n\\ntomas kuliavas wrote:\\n&gt; or you could set ...</td>\n",
       "      <td>0</td>\n",
       "      <td>1</td>\n",
       "    </tr>\n",
       "    <tr>\n",
       "      <th>26957</th>\n",
       "      <td>Keri Morrison &lt;dwvenusm@venus.net&gt;</td>\n",
       "      <td>just read what our satisfied customers say</td>\n",
       "      <td>\\n  these customer  letters just prove how  \\n...</td>\n",
       "      <td>1</td>\n",
       "      <td>0</td>\n",
       "    </tr>\n",
       "    <tr>\n",
       "      <th>32646</th>\n",
       "      <td>iybz@pobox.com</td>\n",
       "      <td>re: [python-dev] [doc-sig] double specificatio...</td>\n",
       "      <td>\\n    brett&gt; they shouldn't. maybe the tempfil...</td>\n",
       "      <td>0</td>\n",
       "      <td>1</td>\n",
       "    </tr>\n",
       "    <tr>\n",
       "      <th>7500</th>\n",
       "      <td>tqukqzpx@spamassassin.zones.apache.org</td>\n",
       "      <td>buildbot failure in mc-fast</td>\n",
       "      <td>the buildbot has detected a new failure of mc-...</td>\n",
       "      <td>0</td>\n",
       "      <td>1</td>\n",
       "    </tr>\n",
       "  </tbody>\n",
       "</table>\n",
       "</div>"
      ],
      "text/plain": [
       "                                       sender  \\\n",
       "38881     Meagan Leah <leah_py@cmgraphix.com>   \n",
       "38671               jimmi61 <zdmkr@libero.it>   \n",
       "26957      Keri Morrison <dwvenusm@venus.net>   \n",
       "32646                          iybz@pobox.com   \n",
       "7500   tqukqzpx@spamassassin.zones.apache.org   \n",
       "\n",
       "                                                 subject  \\\n",
       "38881  :: cialisviagra :: free pills for u! save up t...   \n",
       "38671  re: [sm-users] slash wrongly encoded as %2f in...   \n",
       "26957         just read what our satisfied customers say   \n",
       "32646  re: [python-dev] [doc-sig] double specificatio...   \n",
       "7500                         buildbot failure in mc-fast   \n",
       "\n",
       "                                                    body  true_label  \\\n",
       "38881        \\nwe give you freeviagrapills (free 4 - ...           1   \n",
       "38671  \\n\\ntomas kuliavas wrote:\\n> or you could set ...           0   \n",
       "26957  \\n  these customer  letters just prove how  \\n...           1   \n",
       "32646  \\n    brett> they shouldn't. maybe the tempfil...           0   \n",
       "7500   the buildbot has detected a new failure of mc-...           0   \n",
       "\n",
       "       predicted_label  \n",
       "38881                0  \n",
       "38671                1  \n",
       "26957                0  \n",
       "32646                1  \n",
       "7500                 1  "
      ]
     },
     "execution_count": 7,
     "metadata": {},
     "output_type": "execute_result"
    }
   ],
   "source": [
    "# Create a DataFrame comparing predictions to true labels for Decision Tree\n",
    "tree_errors = df.loc[y_test.index].copy()\n",
    "tree_errors['true_label'] = y_test\n",
    "tree_errors['predicted_label'] = y_pred_tree\n",
    "\n",
    "# Find where Decision Tree made mistakes\n",
    "tree_mistakes = tree_errors[tree_errors['true_label'] != tree_errors['predicted_label']]\n",
    "\n",
    "print(f\"Decision Tree made {len(tree_mistakes)} mistakes out of {len(y_test)} test samples.\")\n",
    "\n",
    "# Display a few mistaken examples for Decision Tree\n",
    "tree_mistakes[['sender', 'subject', 'body', 'true_label', 'predicted_label']].sample(5, random_state=42)\n"
   ]
  },
  {
   "cell_type": "markdown",
   "metadata": {},
   "source": [
    "## Qualitative Error Analysis: Decision Tree\n",
    "\n",
    "While the Decision Tree model performed significantly better than Logistic Regression overall, inspection of its misclassifications revealed some recurring challenges:\n",
    "\n",
    "- **False Negatives**: Some obviously spammy emails, particularly those with marketing language (\"free pills\", \"satisfied customers\"), were misclassified as legitimate. This may reflect overfitting to superficial features rather than learning semantic cues.\n",
    "- **False Positives**: Legitimate technical and political discussion emails were occasionally flagged as phishing. This suggests the model may be overly sensitive to certain keywords like \"breaking news\" or to special characters in subjects.\n",
    "- **Language Bias**: Some non-English (German) phishing emails were misclassified as legitimate, indicating that the model may be biased toward English-language patterns.\n",
    "\n",
    "These findings suggest that even strong tree-based models benefit from incorporating deeper text representations, motivating the move to more sophisticated NLP approaches like BERT for improved phishing detection.\n"
   ]
  }
 ],
 "metadata": {
  "kernelspec": {
   "display_name": ".venv",
   "language": "python",
   "name": "python3"
  },
  "language_info": {
   "codemirror_mode": {
    "name": "ipython",
    "version": 3
   },
   "file_extension": ".py",
   "mimetype": "text/x-python",
   "name": "python",
   "nbconvert_exporter": "python",
   "pygments_lexer": "ipython3",
   "version": "3.10.2"
  }
 },
 "nbformat": 4,
 "nbformat_minor": 2
}
